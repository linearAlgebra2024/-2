{
  "nbformat": 4,
  "nbformat_minor": 0,
  "metadata": {
    "colab": {
      "provenance": [],
      "mount_file_id": "14zmvNDCXZyOb2TKnIG8Y4YlC8hefAzfh",
      "authorship_tag": "ABX9TyPzrcQJZVXDCU2+r/mmFeXO",
      "include_colab_link": true
    },
    "kernelspec": {
      "name": "python3",
      "display_name": "Python 3"
    },
    "language_info": {
      "name": "python"
    }
  },
  "cells": [
    {
      "cell_type": "markdown",
      "metadata": {
        "id": "view-in-github",
        "colab_type": "text"
      },
      "source": [
        "<a href=\"https://colab.research.google.com/github/linearAlgebra2024/-2/blob/feat-minsup/Untitled0.ipynb\" target=\"_parent\"><img src=\"https://colab.research.google.com/assets/colab-badge.svg\" alt=\"Open In Colab\"/></a>"
      ]
    },
    {
      "cell_type": "code",
      "execution_count": 4,
      "metadata": {
        "colab": {
          "base_uri": "https://localhost:8080/"
        },
        "id": "L--32FyxRpbN",
        "outputId": "249ccfa6-4a29-44a4-af3a-a9a9cbce9d03"
      },
      "outputs": [
        {
          "output_type": "stream",
          "name": "stdout",
          "text": [
            "Hello, world\n",
            "정수: 3, 03, 003, 0003, 00003\n",
            "실수: 256, 256.1, 256.12\n",
            "문자열: [Hello, world]\n"
          ]
        }
      ],
      "source": [
        "print(\"Hello, world\")\n",
        "\n",
        "#integer\n",
        "x = 3\n",
        "print(\"정수: %01d, %02d, %03d, %04d, %05d\" % (x,x,x,x,x))\n",
        "\n",
        "#float\n",
        "x = 256.123\n",
        "print(\"실수: %.0f, %.1f, %.2f\" % (x,x,x))\n",
        "\n",
        "#string\n",
        "x = \"Hello, world\"\n",
        "print(\"문자열: [%s]\" % (x))"
      ]
    }
  ]
}