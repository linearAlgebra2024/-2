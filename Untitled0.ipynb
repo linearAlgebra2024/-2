{
  "nbformat": 4,
  "nbformat_minor": 0,
  "metadata": {
    "colab": {
      "provenance": [],
      "mount_file_id": "14zmvNDCXZyOb2TKnIG8Y4YlC8hefAzfh",
      "authorship_tag": "ABX9TyMKrrDeQZgvOJUBZV/1UV/5",
      "include_colab_link": true
    },
    "kernelspec": {
      "name": "python3",
      "display_name": "Python 3"
    },
    "language_info": {
      "name": "python"
    }
  },
  "cells": [
    {
      "cell_type": "markdown",
      "metadata": {
        "id": "view-in-github",
        "colab_type": "text"
      },
      "source": [
        "<a href=\"https://colab.research.google.com/github/linearAlgebra2024/-2/blob/feat-minsup/Untitled0.ipynb\" target=\"_parent\"><img src=\"https://colab.research.google.com/assets/colab-badge.svg\" alt=\"Open In Colab\"/></a>"
      ]
    },
    {
      "cell_type": "code",
      "execution_count": null,
      "metadata": {
        "colab": {
          "base_uri": "https://localhost:8080/"
        },
        "id": "L--32FyxRpbN",
        "outputId": "e142b32b-615c-47a3-d863-d2ccbc00b9d3"
      },
      "outputs": [
        {
          "output_type": "stream",
          "name": "stdout",
          "text": [
            "Hello, world\n",
            "정수: 3, 03, 003, 0003, 00003\n",
            "실수: 256, 256.1, 256.12\n",
            "문자열: [Hello, world]\n"
          ]
        }
      ],
      "source": [
        "#프린트\n",
        "print(\"Hello, world\")\n",
        "\n",
        "#integer\n",
        "x = 3\n",
        "print(\"정수: %01d, %02d, %03d, %04d, %05d\" % (x,x,x,x,x))\n",
        "\n",
        "#float\n",
        "x = 256.123\n",
        "print(\"실수: %.0f, %.1f, %.2f\" % (x,x,x))\n",
        "\n",
        "#string\n",
        "x = \"Hello, world\"\n",
        "print(\"문자열: [%s]\" % (x))\n"
      ]
    },
    {
      "cell_type": "code",
      "source": [
        "#반복문, 조건문\n",
        "contents = [\"Regression\", \"Classification\", \"SYM\", \"Clustering\", \"Dimension reduction\",\n",
        "            \"NN\", \"CNN\", \"AE\", \"GAN\", \"RNN\"]\n",
        "\n",
        "for con in contents:\n",
        "  if con in [\"Regression\", \"Classification\", \"SYM\", \"Clustering\", \"Dimension reduction\"]:\n",
        "    print(\"%s은(는) 기계학습 내용입니다.\" %con)\n",
        "  elif con in [\"CNN\"]:\n",
        "    print (\"%s 은(는) convolutional neural network 입니다.\" %con)\n",
        "  else:\n",
        "    print (\"%s 은(는) 심층 학습 내용입니다.\" %con)"
      ],
      "metadata": {
        "colab": {
          "base_uri": "https://localhost:8080/"
        },
        "id": "xlVu_J3UeY0w",
        "outputId": "8d6864b6-fe5b-44ea-e95a-585094f5e7a9"
      },
      "execution_count": null,
      "outputs": [
        {
          "output_type": "stream",
          "name": "stdout",
          "text": [
            "Regression은(는) 기계학습 내용입니다.\n",
            "Classification은(는) 기계학습 내용입니다.\n",
            "SYM은(는) 기계학습 내용입니다.\n",
            "Clustering은(는) 기계학습 내용입니다.\n",
            "Dimension reduction은(는) 기계학습 내용입니다.\n",
            "NN 은(는) 심층 학습 내용입니다.\n",
            "CNN 은(는) convolutional neural network 입니다.\n",
            "AE 은(는) 심층 학습 내용입니다.\n",
            "GAN 은(는) 심층 학습 내용입니다.\n",
            "RNN 은(는) 심층 학습 내용입니다.\n"
          ]
        }
      ]
    },
    {
      "cell_type": "code",
      "source": [
        "#반복문과 인덱스\n",
        "for (i, con) in enumerate(contents):\n",
        "  print (\"[%d/%d]: %s\" %(i, len(contents), con))"
      ],
      "metadata": {
        "colab": {
          "base_uri": "https://localhost:8080/"
        },
        "id": "ez0k99EGenx6",
        "outputId": "755e87d3-d659-4338-b72d-d432bd381186"
      },
      "execution_count": null,
      "outputs": [
        {
          "output_type": "stream",
          "name": "stdout",
          "text": [
            "[0/10]: Regression\n",
            "[1/10]: Classification\n",
            "[2/10]: SYM\n",
            "[3/10]: Clustering\n",
            "[4/10]: Dimension reduction\n",
            "[5/10]: NN\n",
            "[6/10]: CNN\n",
            "[7/10]: AE\n",
            "[8/10]: GAN\n",
            "[9/10]: RNN\n"
          ]
        }
      ]
    },
    {
      "cell_type": "code",
      "source": [
        "#함수\n",
        "def sum(a,b):\n",
        "  return a+b\n",
        "\n",
        "x = 10.0\n",
        "y = 20.0\n",
        "print(\"%.1f + %.1f = %.1f\" %(x, y, sum(x,y)))"
      ],
      "metadata": {
        "colab": {
          "base_uri": "https://localhost:8080/"
        },
        "id": "49I-s0OOesTe",
        "outputId": "1a81e161-3871-4c39-8b3d-ba363ea587dc"
      },
      "execution_count": null,
      "outputs": [
        {
          "output_type": "stream",
          "name": "stdout",
          "text": [
            "10.0 + 20.0 = 30.0\n"
          ]
        }
      ]
    },
    {
      "cell_type": "code",
      "source": [
        "#리스트\n",
        "a = []\n",
        "b = [1,2,3]\n",
        "c = [\"Hello\", \",\", \"world\"]\n",
        "d = [1,2,3,\"x\", \"y\", \"z\"]\n",
        "x = []\n",
        "print(x)\n",
        "\n",
        "x.append('a')\n",
        "print(x)\n",
        "\n",
        "x.append(123)\n",
        "print(x)\n",
        "\n",
        "x.append([\"a\", \"b\"])\n",
        "print (x)"
      ],
      "metadata": {
        "colab": {
          "base_uri": "https://localhost:8080/"
        },
        "id": "-D1rmR_XewfK",
        "outputId": "12c9e6ed-84e9-45b1-f8ac-6e30582a7bbc"
      },
      "execution_count": null,
      "outputs": [
        {
          "output_type": "stream",
          "name": "stdout",
          "text": [
            "[]\n",
            "['a']\n",
            "['a', 123]\n",
            "['a', 123, ['a', 'b']]\n"
          ]
        }
      ]
    },
    {
      "cell_type": "code",
      "source": [
        "#딕셔너리\n",
        "dic = dict()\n",
        "dic[\"name\"] = \"Daesik\"\n",
        "dic[\"town\"] = \"Yongin city\"\n",
        "dic[\"job\"] = \"Assistant professor\"\n",
        "print(dic)"
      ],
      "metadata": {
        "colab": {
          "base_uri": "https://localhost:8080/"
        },
        "id": "NIi8uFfxe3r3",
        "outputId": "0dcf6f2d-a939-4f38-8c7f-771baf66ad1e"
      },
      "execution_count": null,
      "outputs": [
        {
          "output_type": "stream",
          "name": "stdout",
          "text": [
            "{'name': 'Daesik', 'town': 'Yongin city', 'job': 'Assistant professor'}\n"
          ]
        }
      ]
    },
    {
      "cell_type": "code",
      "source": [
        "class Student:\n",
        "  #생성자\n",
        "  def __init__(self, name):\n",
        "    self.name = name\n",
        "\n",
        "  #메서드\n",
        "  def study(self, hard=False):\n",
        "    if hard:\n",
        "      print(\"%s 학생은 열심히 공부합니다.\" %self.name)\n",
        "    else:\n",
        "      print(\"%s 학생은 공부합니다.\" %self.name)\n",
        "\n",
        "s = Student(\"Daesik\")\n",
        "s.study()\n",
        "s.study(hard=True)"
      ],
      "metadata": {
        "colab": {
          "base_uri": "https://localhost:8080/"
        },
        "id": "KzmAYceRfAbx",
        "outputId": "29932565-672b-40db-b8b8-da4928de6d46"
      },
      "execution_count": null,
      "outputs": [
        {
          "output_type": "stream",
          "name": "stdout",
          "text": [
            "Daesik 학생은 공부합니다.\n",
            "Daesik 학생은 열심히 공부합니다.\n"
          ]
        }
      ]
    },
    {
      "cell_type": "markdown",
      "source": [
        "2. 백터, 행렬 연산, 그래프 그리기\n",
        "프린트\n",
        "-실습8"
      ],
      "metadata": {
        "id": "NMX3SUt7-F-6"
      }
    },
    {
      "cell_type": "code",
      "source": [
        "import numpy as np\n",
        "def print_val (X):\n",
        "  print (\"Type:\", type(x))\n",
        "  print (\"Shape:\", x.shape)\n",
        "  print (\"값: \\n\", x)\n",
        "  print (\" \")"
      ],
      "metadata": {
        "id": "vLneMRF--K4p"
      },
      "execution_count": null,
      "outputs": []
    },
    {
      "cell_type": "markdown",
      "source": [
        "-실습9"
      ],
      "metadata": {
        "id": "ZuJAuXQbHSdo"
      }
    },
    {
      "cell_type": "code",
      "source": [
        "import numpy as np\n",
        "\n",
        "x = np.array([1, 2, 3])\n",
        "print_val(x)\n",
        "\n",
        "x[0] = 5\n",
        "print_val(x)"
      ],
      "metadata": {
        "colab": {
          "base_uri": "https://localhost:8080/"
        },
        "id": "h5D_3dff-7pL",
        "outputId": "fc4427a6-5419-43fb-e6aa-ce45692ae511"
      },
      "execution_count": null,
      "outputs": [
        {
          "output_type": "stream",
          "name": "stdout",
          "text": [
            "Type: <class 'numpy.ndarray'>\n",
            "Shape: (3,)\n",
            "값: \n",
            " [1 2 3]\n",
            " \n",
            "Type: <class 'numpy.ndarray'>\n",
            "Shape: (3,)\n",
            "값: \n",
            " [5 2 3]\n",
            " \n"
          ]
        }
      ]
    },
    {
      "cell_type": "markdown",
      "source": [
        "-실습10"
      ],
      "metadata": {
        "id": "XnjXpDPnA6JJ"
      }
    },
    {
      "cell_type": "code",
      "source": [
        "import numpy as np\n",
        "\n",
        "def print_val(x):  # 함수 정의에서 매개변수 이름을 X에서 x로 수정\n",
        "    print(\"Type:\", type(x))\n",
        "    print(\"Shape:\", x.shape)\n",
        "    print(\"값: \\n\", x)\n",
        "    print(\" \")\n",
        "\n",
        "a = np.random.random((4,4))\n",
        "print_val(a)\n",
        "\n",
        "a = np.random.randn(4,4)\n",
        "print_val(a)\n"
      ],
      "metadata": {
        "colab": {
          "base_uri": "https://localhost:8080/"
        },
        "id": "d1svASrjA73A",
        "outputId": "91a52533-5000-4651-829b-793bf069bce4"
      },
      "execution_count": null,
      "outputs": [
        {
          "output_type": "stream",
          "name": "stdout",
          "text": [
            "Type: <class 'numpy.ndarray'>\n",
            "Shape: (4, 4)\n",
            "값: \n",
            " [[0.48838385 0.78158443 0.40949029 0.71973738]\n",
            " [0.54449855 0.4946015  0.40152395 0.31196374]\n",
            " [0.90554612 0.99527176 0.12347934 0.76708613]\n",
            " [0.24848978 0.82814785 0.78131977 0.89773211]]\n",
            " \n",
            "Type: <class 'numpy.ndarray'>\n",
            "Shape: (4, 4)\n",
            "값: \n",
            " [[ 1.38123094 -0.46693785  0.54202987 -0.01036861]\n",
            " [ 0.123594    0.51552824  1.10236983  0.28676121]\n",
            " [-0.27099018 -1.17202181 -1.04056686 -0.00394766]\n",
            " [ 0.21592073 -0.0983621   0.72869224 -1.37081804]]\n",
            " \n"
          ]
        }
      ]
    },
    {
      "cell_type": "markdown",
      "source": [
        "-실습11"
      ],
      "metadata": {
        "id": "vHb_yQoE_yqd"
      }
    },
    {
      "cell_type": "code",
      "source": [
        "import numpy as np\n",
        "\n",
        "def print_val(x):  # 함수 정의에서 매개변수 이름을 X에서 x로 수정\n",
        "    print(\"Type:\", type(x))\n",
        "    print(\"Shape:\", x.shape)\n",
        "    print(\"값: \\n\", x)\n",
        "    print(\" \")\n",
        "\n",
        "a = np.array([[1,2,3,4,], [5,6,7,8,],[9,10,11,12]])\n",
        "print_val(a)\n",
        "\n",
        "b = a[:2, 1:3]\n",
        "print_val(b)\n",
        "\n",
        "row1 = a[1, :]\n",
        "print_val(row1)"
      ],
      "metadata": {
        "colab": {
          "base_uri": "https://localhost:8080/"
        },
        "id": "2iMuj19S_z7o",
        "outputId": "f9dc4e78-9d99-45a4-8d8a-6a154434690b"
      },
      "execution_count": null,
      "outputs": [
        {
          "output_type": "stream",
          "name": "stdout",
          "text": [
            "Type: <class 'numpy.ndarray'>\n",
            "Shape: (3, 4)\n",
            "값: \n",
            " [[ 1  2  3  4]\n",
            " [ 5  6  7  8]\n",
            " [ 9 10 11 12]]\n",
            " \n",
            "Type: <class 'numpy.ndarray'>\n",
            "Shape: (2, 2)\n",
            "값: \n",
            " [[2 3]\n",
            " [6 7]]\n",
            " \n",
            "Type: <class 'numpy.ndarray'>\n",
            "Shape: (4,)\n",
            "값: \n",
            " [5 6 7 8]\n",
            " \n"
          ]
        }
      ]
    },
    {
      "cell_type": "markdown",
      "source": [
        "-실습12"
      ],
      "metadata": {
        "id": "YWA0Eb-QBh50"
      }
    },
    {
      "cell_type": "code",
      "source": [
        "import numpy as np\n",
        "\n",
        "def print_val(x):  # 함수 정의에서 매개변수 이름을 X에서 x로 수정\n",
        "    print(\"Type:\", type(x))\n",
        "    print(\"Shape:\", x.shape)\n",
        "    print(\"값: \\n\", x)\n",
        "    print(\" \")\n",
        "\n",
        "m1 = np.array([[1,2],[3,4]], dtype=np.float64)\n",
        "m2 = np.array([[5,6],[7,8]], dtype=np.float64)\n",
        "#elementwise sum\n",
        "print_val(m1 + m2)\n",
        "print_val(np.add(m1, m2))"
      ],
      "metadata": {
        "colab": {
          "base_uri": "https://localhost:8080/"
        },
        "id": "8gYAZbe5Bjo8",
        "outputId": "8d379483-0804-4ce8-93ed-e49322c5a7f1"
      },
      "execution_count": null,
      "outputs": [
        {
          "output_type": "stream",
          "name": "stdout",
          "text": [
            "Type: <class 'numpy.ndarray'>\n",
            "Shape: (2, 2)\n",
            "값: \n",
            " [[ 6.  8.]\n",
            " [10. 12.]]\n",
            " \n",
            "Type: <class 'numpy.ndarray'>\n",
            "Shape: (2, 2)\n",
            "값: \n",
            " [[ 6.  8.]\n",
            " [10. 12.]]\n",
            " \n"
          ]
        }
      ]
    },
    {
      "cell_type": "markdown",
      "source": [
        "-실습13"
      ],
      "metadata": {
        "id": "2-12A9ttCMka"
      }
    },
    {
      "cell_type": "code",
      "source": [
        "import numpy as np\n",
        "\n",
        "def print_val(x):  # 함수 정의에서 매개변수 이름을 X에서 x로 수정\n",
        "    print(\"Type:\", type(x))\n",
        "    print(\"Shape:\", x.shape)\n",
        "    print(\"값: \\n\", x)\n",
        "    print(\" \")\n",
        "\n",
        "#elementwise difference\n",
        "print_val(m1 - m2)\n",
        "print_val(np.subtract(m1, m2))\n",
        "\n",
        "#elementwise product\n",
        "print_val(m1 * m2)\n",
        "print_val(np.multiply(m1, m2))"
      ],
      "metadata": {
        "colab": {
          "base_uri": "https://localhost:8080/"
        },
        "id": "n3YK6zSQCPrD",
        "outputId": "922475df-1a23-4e26-ad32-8077b8aabe7d"
      },
      "execution_count": null,
      "outputs": [
        {
          "output_type": "stream",
          "name": "stdout",
          "text": [
            "Type: <class 'numpy.ndarray'>\n",
            "Shape: (2, 2)\n",
            "값: \n",
            " [[-4. -4.]\n",
            " [-4. -4.]]\n",
            " \n",
            "Type: <class 'numpy.ndarray'>\n",
            "Shape: (2, 2)\n",
            "값: \n",
            " [[-4. -4.]\n",
            " [-4. -4.]]\n",
            " \n",
            "Type: <class 'numpy.ndarray'>\n",
            "Shape: (2, 2)\n",
            "값: \n",
            " [[ 5. 12.]\n",
            " [21. 32.]]\n",
            " \n",
            "Type: <class 'numpy.ndarray'>\n",
            "Shape: (2, 2)\n",
            "값: \n",
            " [[ 5. 12.]\n",
            " [21. 32.]]\n",
            " \n"
          ]
        }
      ]
    },
    {
      "cell_type": "markdown",
      "source": [
        "-실습14"
      ],
      "metadata": {
        "id": "yvMLHrJECqNX"
      }
    },
    {
      "cell_type": "code",
      "source": [
        "import numpy as np\n",
        "\n",
        "def print_val(x):  # 함수 정의에서 매개변수 이름을 X에서 x로 수정\n",
        "    print(\"Type:\", type(x))\n",
        "    print(\"Shape:\", x.shape)\n",
        "    print(\"값: \\n\", x)\n",
        "    print(\" \")\n",
        "\n",
        "#elementwise division\n",
        "print_val(m1 / m2)\n",
        "print_val(np.divide(m1, m2))\n",
        "\n",
        "#elementwise square root\n",
        "print_val(np.sqrt(m1))"
      ],
      "metadata": {
        "colab": {
          "base_uri": "https://localhost:8080/"
        },
        "id": "jMa0m9llCrkX",
        "outputId": "4a0e3ca0-21f1-4edb-ace7-1ad84c638a24"
      },
      "execution_count": null,
      "outputs": [
        {
          "output_type": "stream",
          "name": "stdout",
          "text": [
            "Type: <class 'numpy.ndarray'>\n",
            "Shape: (2, 2)\n",
            "값: \n",
            " [[0.2        0.33333333]\n",
            " [0.42857143 0.5       ]]\n",
            " \n",
            "Type: <class 'numpy.ndarray'>\n",
            "Shape: (2, 2)\n",
            "값: \n",
            " [[0.2        0.33333333]\n",
            " [0.42857143 0.5       ]]\n",
            " \n",
            "Type: <class 'numpy.ndarray'>\n",
            "Shape: (2, 2)\n",
            "값: \n",
            " [[1.         1.41421356]\n",
            " [1.73205081 2.        ]]\n",
            " \n"
          ]
        }
      ]
    },
    {
      "cell_type": "markdown",
      "source": [
        "-실습15"
      ],
      "metadata": {
        "id": "bhyTFU7EC6l4"
      }
    },
    {
      "cell_type": "code",
      "source": [
        "import numpy as np\n",
        "\n",
        "def print_val(x):  # 함수 정의에서 매개변수 이름을 X에서 x로 수정\n",
        "    print(\"Type:\", type(x))\n",
        "    print(\"Shape:\", x.shape)\n",
        "    print(\"값: \\n\", x)\n",
        "    print(\" \")\n",
        "\n",
        "m1 = np.array([[1,2], [3,4]])\n",
        "m2 = np.array([[5,6], [7,8]])\n",
        "v1 = np.array([9,10])\n",
        "v2 = np.array([11,12])\n",
        "\n",
        "print_val(m1)\n",
        "print_val(m2)\n",
        "print_val(v1)\n",
        "print_val(v2)"
      ],
      "metadata": {
        "colab": {
          "base_uri": "https://localhost:8080/"
        },
        "id": "O8LzwwTmC8OB",
        "outputId": "5daa8b70-0652-4775-8a3d-636f86906c69"
      },
      "execution_count": null,
      "outputs": [
        {
          "output_type": "stream",
          "name": "stdout",
          "text": [
            "Type: <class 'numpy.ndarray'>\n",
            "Shape: (2, 2)\n",
            "값: \n",
            " [[1 2]\n",
            " [3 4]]\n",
            " \n",
            "Type: <class 'numpy.ndarray'>\n",
            "Shape: (2, 2)\n",
            "값: \n",
            " [[5 6]\n",
            " [7 8]]\n",
            " \n",
            "Type: <class 'numpy.ndarray'>\n",
            "Shape: (2,)\n",
            "값: \n",
            " [ 9 10]\n",
            " \n",
            "Type: <class 'numpy.ndarray'>\n",
            "Shape: (2,)\n",
            "값: \n",
            " [11 12]\n",
            " \n"
          ]
        }
      ]
    },
    {
      "cell_type": "markdown",
      "source": [
        "-실습16"
      ],
      "metadata": {
        "id": "M_QpU37nDOMo"
      }
    },
    {
      "cell_type": "code",
      "source": [
        "import numpy as np\n",
        "\n",
        "def print_val(x):  # 함수 정의에서 매개변수 이름을 X에서 x로 수정\n",
        "    print(\"Type:\", type(x))\n",
        "    print(\"Shape:\", x.shape)\n",
        "    print(\"값: \\n\", x)\n",
        "    print(\" \")\n",
        "\n",
        "print_val(v1.dot(v2))\n",
        "print_val(np.dot(v1, v2))"
      ],
      "metadata": {
        "colab": {
          "base_uri": "https://localhost:8080/"
        },
        "id": "p97LHsnVDPls",
        "outputId": "095b9293-376c-400e-d522-8fa912210839"
      },
      "execution_count": null,
      "outputs": [
        {
          "output_type": "stream",
          "name": "stdout",
          "text": [
            "Type: <class 'numpy.int64'>\n",
            "Shape: ()\n",
            "값: \n",
            " 219\n",
            " \n",
            "Type: <class 'numpy.int64'>\n",
            "Shape: ()\n",
            "값: \n",
            " 219\n",
            " \n"
          ]
        }
      ]
    },
    {
      "cell_type": "markdown",
      "source": [
        "-실습17"
      ],
      "metadata": {
        "id": "Ktiobm3IDVRy"
      }
    },
    {
      "cell_type": "code",
      "source": [
        "import numpy as np\n",
        "\n",
        "def print_val(x):  # 함수 정의에서 매개변수 이름을 X에서 x로 수정\n",
        "    print(\"Type:\", type(x))\n",
        "    print(\"Shape:\", x.shape)\n",
        "    print(\"값: \\n\", x)\n",
        "    print(\" \")\n",
        "\n",
        "print_val(m1.dot(v1))\n",
        "print_val(np.dot(m1, v1))"
      ],
      "metadata": {
        "colab": {
          "base_uri": "https://localhost:8080/"
        },
        "id": "GYq2t4N2DWUq",
        "outputId": "0a697111-3372-4c00-c76e-428f4d2e38e6"
      },
      "execution_count": null,
      "outputs": [
        {
          "output_type": "stream",
          "name": "stdout",
          "text": [
            "Type: <class 'numpy.ndarray'>\n",
            "Shape: (2,)\n",
            "값: \n",
            " [29 67]\n",
            " \n",
            "Type: <class 'numpy.ndarray'>\n",
            "Shape: (2,)\n",
            "값: \n",
            " [29 67]\n",
            " \n"
          ]
        }
      ]
    },
    {
      "cell_type": "markdown",
      "source": [
        "-실습18"
      ],
      "metadata": {
        "id": "af4x2GKgDcmz"
      }
    },
    {
      "cell_type": "code",
      "source": [
        "import numpy as np\n",
        "\n",
        "def print_val(x):  # 함수 정의에서 매개변수 이름을 X에서 x로 수정\n",
        "    print(\"Type:\", type(x))\n",
        "    print(\"Shape:\", x.shape)\n",
        "    print(\"값: \\n\", x)\n",
        "    print(\" \")\n",
        "\n",
        "print_val(m1.dot(m2))\n",
        "print_val(np.dot(m1, m2))"
      ],
      "metadata": {
        "colab": {
          "base_uri": "https://localhost:8080/"
        },
        "id": "VSRDSjExDeu_",
        "outputId": "5bba0096-1ddd-40ba-fab6-99f21d6ca3d6"
      },
      "execution_count": null,
      "outputs": [
        {
          "output_type": "stream",
          "name": "stdout",
          "text": [
            "Type: <class 'numpy.ndarray'>\n",
            "Shape: (2, 2)\n",
            "값: \n",
            " [[19 22]\n",
            " [43 50]]\n",
            " \n",
            "Type: <class 'numpy.ndarray'>\n",
            "Shape: (2, 2)\n",
            "값: \n",
            " [[19 22]\n",
            " [43 50]]\n",
            " \n"
          ]
        }
      ]
    },
    {
      "cell_type": "markdown",
      "source": [
        "-실습19"
      ],
      "metadata": {
        "id": "GRkTIBhODk0F"
      }
    },
    {
      "cell_type": "code",
      "source": [
        "import numpy as np\n",
        "\n",
        "def print_val(x):  # 함수 정의에서 매개변수 이름을 X에서 x로 수정\n",
        "    print(\"Type:\", type(x))\n",
        "    print(\"Shape:\", x.shape)\n",
        "    print(\"값: \\n\", x)\n",
        "    print(\" \")\n",
        "\n",
        "print_val(m1)\n",
        "print_val(m1.T)"
      ],
      "metadata": {
        "colab": {
          "base_uri": "https://localhost:8080/"
        },
        "id": "XBSH4dtUDl3k",
        "outputId": "81c15368-d07b-4daf-abc4-e863b08cd9fe"
      },
      "execution_count": null,
      "outputs": [
        {
          "output_type": "stream",
          "name": "stdout",
          "text": [
            "Type: <class 'numpy.ndarray'>\n",
            "Shape: (2, 2)\n",
            "값: \n",
            " [[1 2]\n",
            " [3 4]]\n",
            " \n",
            "Type: <class 'numpy.ndarray'>\n",
            "Shape: (2, 2)\n",
            "값: \n",
            " [[1 3]\n",
            " [2 4]]\n",
            " \n"
          ]
        }
      ]
    },
    {
      "cell_type": "markdown",
      "source": [
        "-실습20"
      ],
      "metadata": {
        "id": "n8ykgn7ODzVR"
      }
    },
    {
      "cell_type": "code",
      "source": [
        "import numpy as np\n",
        "\n",
        "def print_val(x):  # 함수 정의에서 매개변수 이름을 X에서 x로 수정\n",
        "    print(\"Type:\", type(x))\n",
        "    print(\"Shape:\", x.shape)\n",
        "    print(\"값: \\n\", x)\n",
        "    print(\" \")\n",
        "\n",
        "print_val(np.sum(m1))\n",
        "print_val(np.sum(m1, axis = 0))\n",
        "print_val(np.sum(m1, axis = 1))"
      ],
      "metadata": {
        "colab": {
          "base_uri": "https://localhost:8080/"
        },
        "id": "LLtZfO_WD06V",
        "outputId": "bf388ba6-e75d-49a5-ec45-a34b294beb5e"
      },
      "execution_count": null,
      "outputs": [
        {
          "output_type": "stream",
          "name": "stdout",
          "text": [
            "Type: <class 'numpy.int64'>\n",
            "Shape: ()\n",
            "값: \n",
            " 10\n",
            " \n",
            "Type: <class 'numpy.ndarray'>\n",
            "Shape: (2,)\n",
            "값: \n",
            " [4 6]\n",
            " \n",
            "Type: <class 'numpy.ndarray'>\n",
            "Shape: (2,)\n",
            "값: \n",
            " [3 7]\n",
            " \n"
          ]
        }
      ]
    },
    {
      "cell_type": "markdown",
      "source": [
        "-실습21"
      ],
      "metadata": {
        "id": "M-Vv2D5uD7_x"
      }
    },
    {
      "cell_type": "code",
      "source": [
        "import numpy as np\n",
        "\n",
        "def print_val(x):  # 함수 정의에서 매개변수 이름을 X에서 x로 수정\n",
        "    print(\"Type:\", type(x))\n",
        "    print(\"Shape:\", x.shape)\n",
        "    print(\"값: \\n\", x)\n",
        "    print(\" \")\n",
        "\n",
        "m1 = np.array([[1,2,3], [4,5,6]])\n",
        "print (m1)\n",
        "print (m1.shape)\n",
        "\n",
        "print (np.sum(m1))\n",
        "print (np.sum(m1, axis = 0))\n",
        "print (np.sum(m1, axis =1))"
      ],
      "metadata": {
        "colab": {
          "base_uri": "https://localhost:8080/"
        },
        "id": "nZICWiHBD87W",
        "outputId": "91be733d-71a5-441c-c628-bf6b676687e1"
      },
      "execution_count": null,
      "outputs": [
        {
          "output_type": "stream",
          "name": "stdout",
          "text": [
            "[[1 2 3]\n",
            " [4 5 6]]\n",
            "(2, 3)\n",
            "21\n",
            "[5 7 9]\n",
            "[ 6 15]\n"
          ]
        }
      ]
    },
    {
      "cell_type": "markdown",
      "source": [
        "-실습22"
      ],
      "metadata": {
        "id": "af8tTIgeEd8f"
      }
    },
    {
      "cell_type": "code",
      "source": [
        "import numpy as np\n",
        "\n",
        "def print_val(x):  # 함수 정의에서 매개변수 이름을 X에서 x로 수정\n",
        "    print(\"Type:\", type(x))\n",
        "    print(\"Shape:\", x.shape)\n",
        "    print(\"값: \\n\", x)\n",
        "    print(\" \")\n",
        "\n",
        "m1 = np.array([[1,2,3],\n",
        "               [4,5,6],\n",
        "               [7,8,9],\n",
        "               [10,11,12]])\n",
        "m2 = np.zeros_like(m1)\n",
        "print_val (m1)\n",
        "print_val (m2)"
      ],
      "metadata": {
        "colab": {
          "base_uri": "https://localhost:8080/"
        },
        "id": "acfcQIBMEfai",
        "outputId": "d0fbee3a-0d30-465f-a9c2-896d76264fe4"
      },
      "execution_count": null,
      "outputs": [
        {
          "output_type": "stream",
          "name": "stdout",
          "text": [
            "Type: <class 'numpy.ndarray'>\n",
            "Shape: (4, 3)\n",
            "값: \n",
            " [[ 1  2  3]\n",
            " [ 4  5  6]\n",
            " [ 7  8  9]\n",
            " [10 11 12]]\n",
            " \n",
            "Type: <class 'numpy.ndarray'>\n",
            "Shape: (4, 3)\n",
            "값: \n",
            " [[0 0 0]\n",
            " [0 0 0]\n",
            " [0 0 0]\n",
            " [0 0 0]]\n",
            " \n"
          ]
        }
      ]
    },
    {
      "cell_type": "markdown",
      "source": [
        "-실습23"
      ],
      "metadata": {
        "id": "kXEWIbLFE5sV"
      }
    },
    {
      "cell_type": "code",
      "source": [
        "import matplotlib.pyplot as plt\n",
        "%matplotlib inline\n",
        "\n",
        "#sin 커브\n",
        "x = np.arange(0, 10, 0.1)\n",
        "y = np.sin(x)\n",
        "\n",
        "plt.plot(x, y)"
      ],
      "metadata": {
        "colab": {
          "base_uri": "https://localhost:8080/",
          "height": 448
        },
        "id": "2QaqyCTwEqpd",
        "outputId": "0f38a8af-48fd-42bd-c3c2-6f02a23b31cd"
      },
      "execution_count": null,
      "outputs": [
        {
          "output_type": "execute_result",
          "data": {
            "text/plain": [
              "[<matplotlib.lines.Line2D at 0x7b369c6da380>]"
            ]
          },
          "metadata": {},
          "execution_count": 26
        },
        {
          "output_type": "display_data",
          "data": {
            "text/plain": [
              "<Figure size 640x480 with 1 Axes>"
            ],
            "image/png": "[encoded data removed]"
          },
          "metadata": {}
        }
      ]
    },
    {
      "cell_type": "markdown",
      "source": [
        "-실습24"
      ],
      "metadata": {
        "id": "QTXKo9oRFORn"
      }
    },
    {
      "cell_type": "code",
      "source": [
        "y_sin = np.sin(x)\n",
        "y_cos = np.cos(x)\n",
        "\n",
        "plt.plot(x, y_sin)\n",
        "plt.plot(x, y_cos)\n",
        "plt.xlabel('x axis label')\n",
        "plt.ylabel('y axis label')\n",
        "plt.title('sin and cos')\n",
        "plt.legend(['sin','cos'])\n",
        "\n",
        "plt.show()"
      ],
      "metadata": {
        "colab": {
          "base_uri": "https://localhost:8080/",
          "height": 472
        },
        "id": "YNpOQmLiFPmd",
        "outputId": "0990a1e1-ba72-4924-925b-f8d5066bc88b"
      },
      "execution_count": null,
      "outputs": [
        {
          "output_type": "display_data",
          "data": {
            "text/plain": [
              "<Figure size 640x480 with 1 Axes>"
            ],
            "image/png": "[encoded data removed]"
          },
          "metadata": {}
        }
      ]
    },
    {
      "cell_type": "markdown",
      "source": [
        "-실습25"
      ],
      "metadata": {
        "id": "_w3g3dipFn5m"
      }
    },
    {
      "cell_type": "code",
      "source": [
        "plt.subplot(2, 1, 1)\n",
        "plt.plot(x, y_sin)\n",
        "plt.title('sin')\n",
        "\n",
        "plt.subplot(2, 1, 2)\n",
        "plt.plot(x, y_cos)\n",
        "plt.title('cos')\n",
        "\n",
        "plt.show()"
      ],
      "metadata": {
        "colab": {
          "base_uri": "https://localhost:8080/",
          "height": 452
        },
        "id": "NY3b9Lr3Fo_U",
        "outputId": "b3b4a819-2ddb-41a4-9b85-4a26393bf385"
      },
      "execution_count": null,
      "outputs": [
        {
          "output_type": "display_data",
          "data": {
            "text/plain": [
              "<Figure size 640x480 with 2 Axes>"
            ],
            "image/png": "[encoded data removed]"
          },
          "metadata": {}
        }
      ]
    },
    {
      "cell_type": "markdown",
      "source": [
        "점 그리기"
      ],
      "metadata": {
        "id": "e1rkM4WBWTxi"
      }
    },
    {
      "cell_type": "code",
      "source": [
        "import numpy as np\n",
        "import matplotlib.pyplot as plt\n",
        "\n",
        "a=np.array([4,3])\n",
        "\n",
        "fig=plt.figure()\n",
        "\n",
        "ax=fig.add_subplot(1,1,1)\n",
        "\n",
        "ax.scatter(a[0],a[1],s=30)\n",
        "\n",
        "ax.text(a[0]+0.2, a[1]+0.2, 'a', size=15)\n",
        "\n",
        "ax.set_xticks(range(-5,6))\n",
        "ax.set_yticks(range(-5,6))\n",
        "\n",
        "ax.grid()\n",
        "ax.set_axisbelow(True)\n",
        "\n",
        "ax.set_aspect('equal',adjustable='box')\n",
        "\n",
        "ax.spines['left'].set_position('zero')\n",
        "ax.spines['bottom'].set_position('zero')\n",
        "\n",
        "ax.spines['right'].set_color('none')\n",
        "ax.spines['top'].set_color('none')\n",
        "plt.show()"
      ],
      "metadata": {
        "colab": {
          "base_uri": "https://localhost:8080/",
          "height": 420
        },
        "id": "9EvT4WclWVX3",
        "outputId": "22697793-577a-4064-cd54-62f5c3e1eeca"
      },
      "execution_count": 4,
      "outputs": [
        {
          "output_type": "display_data",
          "data": {
            "text/plain": [
              "<Figure size 640x480 with 1 Axes>"
            ],
            "image/png": "[encoded data removed]"
          },
          "metadata": {}
        }
      ]
    },
    {
      "cell_type": "markdown",
      "source": [
        "화살표 그리기"
      ],
      "metadata": {
        "id": "2mXqPLOvYM72"
      }
    },
    {
      "cell_type": "code",
      "source": [
        "import numpy as np\n",
        "import matplotlib.pyplot as plt\n",
        "\n",
        "a=np.array([4,3])\n",
        "\n",
        "fig=plt.figure()\n",
        "\n",
        "ax=fig.add_subplot(1,1,1)\n",
        "\n",
        "ax.quiver(0,0,a[0],a[1],angles='xy',scale_units='xy',scale=1)\n",
        "ax.text(a[0],a[1],'a',size=15)\n",
        "\n",
        "ax.set_xticks(range(0,7))\n",
        "ax.set_yticks(range(0,7))\n",
        "\n",
        "ax.grid()\n",
        "ax.set_axisbelow(True)\n",
        "\n",
        "ax.set_aspect('equal',adjustable='box')\n",
        "\n",
        "ax.spines['left'].set_position('zero')\n",
        "ax.spines['bottom'].set_position('zero')\n",
        "\n",
        "ax.spines['right'].set_color('none')\n",
        "ax.spines['top'].set_color('none')\n",
        "plt.show()"
      ],
      "metadata": {
        "colab": {
          "base_uri": "https://localhost:8080/",
          "height": 432
        },
        "id": "0z09KDjPYOit",
        "outputId": "98c11da7-92d7-48f9-f1fa-5a754e6d5d08"
      },
      "execution_count": 5,
      "outputs": [
        {
          "output_type": "display_data",
          "data": {
            "text/plain": [
              "<Figure size 640x480 with 1 Axes>"
            ],
            "image/png": "[encoded data removed]"
          },
          "metadata": {}
        }
      ]
    },
    {
      "cell_type": "markdown",
      "source": [
        "다수의 서브플롯 사용하기"
      ],
      "metadata": {
        "id": "whHKP4PCYmhI"
      }
    },
    {
      "cell_type": "code",
      "source": [
        "import numpy as np\n",
        "import matplotlib.pyplot as plt\n",
        "\n",
        "A=np.array([1,-2])\n",
        "B=np.array([4,3])\n",
        "\n",
        "f,ax=plt.subplots(1,2)\n",
        "ax[0].title.set_text('A')\n",
        "ax[1].title.set_text('B')\n",
        "\n",
        "ax[0].quiver(0,0,A[0],A[1],angles='xy',scale_units='xy',scale=1)\n",
        "ax[1].quiver(0,0,B[0],B[1],angles='xy',scale_units='xy',scale=1)\n",
        "\n",
        "start_x=-1\n",
        "end_x=5\n",
        "start_y=-3\n",
        "end_y=4\n",
        "for i in range(2):\n",
        "  ax[i].axis([start_x,end_x,start_y,end_y])\n",
        "  ax[i].set_xticks(range(start_x,end_x))\n",
        "  ax[i].set_yticks(range(start_y,end_y))\n",
        "  ax[i].grid(True)\n",
        "  ax[i].set_aspect('equal',adjustable='box')\n",
        "plt.show()"
      ],
      "metadata": {
        "colab": {
          "base_uri": "https://localhost:8080/",
          "height": 346
        },
        "id": "2Mfam0J2YoeH",
        "outputId": "75da05aa-26b4-46e8-b17d-274c6e7528b5"
      },
      "execution_count": 6,
      "outputs": [
        {
          "output_type": "display_data",
          "data": {
            "text/plain": [
              "<Figure size 640x480 with 2 Axes>"
            ],
            "image/png": "[encoded data removed]"
          },
          "metadata": {}
        }
      ]
    },
    {
      "cell_type": "markdown",
      "source": [
        "3차원 공간에 화살표 그리기"
      ],
      "metadata": {
        "id": "iJv35JGKZ0Tm"
      }
    },
    {
      "cell_type": "code",
      "source": [
        "import numpy as np\n",
        "import matplotlib.pyplot as plt\n",
        "\n",
        "A=np.array([4,5,6])\n",
        "fig=plt.figure()\n",
        "\n",
        "ax=fig.add_subplot(1,1,1,projection='3d')\n",
        "\n",
        "ax.quiver(0,0,0,A[0],A[1],A[2],color='black',arrow_length_ratio=0.1)\n",
        "ax.text(A[0],A[1],A[2],'a',size=15)\n",
        "\n",
        "ax.set_xlim(0,8)\n",
        "ax.set_ylim(0,8)\n",
        "ax.set_zlim(0,8)\n",
        "ax.set_xlabel('x')\n",
        "ax.set_xlabel('y')\n",
        "ax.set_xlabel('z')\n",
        "ax.view_init(elev=20.,azim=5)\n",
        "ax.grid()\n",
        "ax.set_axisbelow(True)\n",
        "ax.set_aspect('auto',adjustable='box')\n",
        "plt.show()"
      ],
      "metadata": {
        "colab": {
          "base_uri": "https://localhost:8080/",
          "height": 406
        },
        "id": "Z5HE4AQ7Z2st",
        "outputId": "60fba67e-2e77-4515-ce8c-f9c1f103a82e"
      },
      "execution_count": 36,
      "outputs": [
        {
          "output_type": "display_data",
          "data": {
            "text/plain": [
              "<Figure size 640x480 with 1 Axes>"
            ],
            "image/png": "[encoded data removed]"
          },
          "metadata": {}
        }
      ]
    },
    {
      "cell_type": "markdown",
      "source": [
        "백터의 성분"
      ],
      "metadata": {
        "id": "JesGaXFOcIQ0"
      }
    },
    {
      "cell_type": "code",
      "source": [
        "import numpy as np\n",
        "a=np.array([4,3])\n",
        "print(a.shape)\n",
        "a.shape=(2,1)\n",
        "print(a)\n",
        "a.shape=(1,2)\n",
        "print(a)"
      ],
      "metadata": {
        "colab": {
          "base_uri": "https://localhost:8080/"
        },
        "id": "zXkg_s1rcJoP",
        "outputId": "b147e0c1-5206-48b5-8f2f-8e081c1075c6"
      },
      "execution_count": 13,
      "outputs": [
        {
          "output_type": "stream",
          "name": "stdout",
          "text": [
            "(2,)\n",
            "[[4]\n",
            " [3]]\n",
            "[[4 3]]\n"
          ]
        }
      ]
    },
    {
      "cell_type": "markdown",
      "source": [
        "백터의 성분"
      ],
      "metadata": {
        "id": "ApRHsbXJc0Nn"
      }
    },
    {
      "cell_type": "code",
      "source": [
        "import numpy as np\n",
        "import matplotlib.pyplot as plt\n",
        "\n",
        "i=np.array([1,0])\n",
        "j=np.array([0,1])\n",
        "\n",
        "a=4*i+3*j\n",
        "\n",
        "fig=plt.figure()\n",
        "ax=fig.add_subplot(1,1,1)\n",
        "\n",
        "ax.quiver(0,0,a[0],a[1],angles='xy',scale_units='xy',scale=1)\n",
        "ax.text(a[0],a[1],'4i+3j',size=15)\n",
        "\n",
        "ax.set_xticks(range(0,7))\n",
        "ax.set_yticks(range(0,7))\n",
        "ax.grid()\n",
        "ax.set_axisbelow(True)\n",
        "ax.set_aspect('equal',adjustable='box')\n",
        "\n",
        "ax.spines['left'].set_position('zero')\n",
        "ax.spines['bottom'].set_position('zero')\n",
        "ax.spines['right'].set_color('none')\n",
        "ax.spines['top'].set_color('none')\n",
        "plt.show()"
      ],
      "metadata": {
        "colab": {
          "base_uri": "https://localhost:8080/",
          "height": 432
        },
        "id": "7d_zeCguc1EC",
        "outputId": "f0cca053-d0fa-467d-acb4-8185afe5e52a"
      },
      "execution_count": 15,
      "outputs": [
        {
          "output_type": "display_data",
          "data": {
            "text/plain": [
              "<Figure size 640x480 with 1 Axes>"
            ],
            "image/png": "[encoded data removed]"
          },
          "metadata": {}
        }
      ]
    },
    {
      "cell_type": "markdown",
      "source": [
        "백터의 기본 연산(덧셈)"
      ],
      "metadata": {
        "id": "5TFeFUtOex59"
      }
    },
    {
      "cell_type": "code",
      "source": [
        "import numpy as np\n",
        "import matplotlib.pyplot as plt\n",
        "\n",
        "a=np.array([4,1])\n",
        "b=np.array([-2,3])\n",
        "sum=a+b\n",
        "\n",
        "fig=plt.figure()\n",
        "ax=fig.add_subplot(1,1,1)\n",
        "\n",
        "ax.quiver(0,0,a[0],a[1],angles='xy',scale_units='xy',scale=1,color='blue')\n",
        "ax.text(a[0],a[1],'a',size=15)\n",
        "\n",
        "ax.quiver(a[0],a[1],b[0],b[1],angles='xy',scale_units='xy',scale=1,color='green')\n",
        "ax.text(a[0]+b[0],a[1]+b[1],'b',size=15)\n",
        "\n",
        "ax.quiver(0,0,sum[0],sum[1],angles='xy',scale_units='xy',scale=1,color='red')\n",
        "ax.text(sum[0]*0.5+0.3,b[1],'a+b',size=15,color='blue')\n",
        "\n",
        "\n",
        "ax.set_xticks(range(0,7))\n",
        "ax.set_yticks(range(0,7))\n",
        "ax.grid()\n",
        "ax.set_axisbelow(True)\n",
        "ax.set_aspect('equal',adjustable='box')\n",
        "\n",
        "ax.spines['left'].set_position('zero')\n",
        "ax.spines['bottom'].set_position('zero')\n",
        "ax.spines['right'].set_color('none')\n",
        "ax.spines['top'].set_color('none')\n",
        "plt.show()"
      ],
      "metadata": {
        "colab": {
          "base_uri": "https://localhost:8080/",
          "height": 432
        },
        "id": "0vxzIt40e3v4",
        "outputId": "287a29a5-6cab-4cc1-f99b-4116d611b3aa"
      },
      "execution_count": 18,
      "outputs": [
        {
          "output_type": "display_data",
          "data": {
            "text/plain": [
              "<Figure size 640x480 with 1 Axes>"
            ],
            "image/png": "[encoded data removed]"
          },
          "metadata": {}
        }
      ]
    },
    {
      "cell_type": "markdown",
      "source": [
        "백터의 기본 연산(뺄셈)"
      ],
      "metadata": {
        "id": "tMxNpKDBgYQw"
      }
    },
    {
      "cell_type": "code",
      "source": [
        "import numpy as np\n",
        "import matplotlib.pyplot as plt\n",
        "\n",
        "a=np.array([4,1])\n",
        "b=np.array([-2,3])\n",
        "sum=a-b\n",
        "\n",
        "fig=plt.figure()\n",
        "ax=fig.add_subplot(1,1,1)\n",
        "\n",
        "ax.quiver(0,0,a[0],a[1],angles='xy',scale_units='xy',scale=1,color='blue')\n",
        "ax.text(a[0],a[1],'a',size=15)\n",
        "\n",
        "ax.quiver(a[0],a[1],-b[0],-b[1],angles='xy',scale_units='xy',scale=1,color='green')\n",
        "ax.text(a[0]-b[0],a[1]-b[1],'b',size=15)\n",
        "\n",
        "ax.quiver(0,0,sum[0],sum[1],angles='xy',scale_units='xy',scale=1,color='red')\n",
        "ax.text(sum[0]*0.5+0.3,b[1],'a-b',size=15,color='blue')\n",
        "\n",
        "\n",
        "ax.set_xticks(range(-2,8))\n",
        "ax.set_yticks(range(-4,5))\n",
        "ax.grid()\n",
        "ax.set_axisbelow(True)\n",
        "ax.set_aspect('equal',adjustable='box')\n",
        "\n",
        "ax.spines['left'].set_position('zero')\n",
        "ax.spines['bottom'].set_position('zero')\n",
        "ax.spines['right'].set_color('none')\n",
        "ax.spines['top'].set_color('none')\n",
        "plt.show()"
      ],
      "metadata": {
        "colab": {
          "base_uri": "https://localhost:8080/",
          "height": 420
        },
        "id": "UsBoUZAqgcNZ",
        "outputId": "64d2341c-4f18-4e27-f11a-a5152012fc8f"
      },
      "execution_count": 20,
      "outputs": [
        {
          "output_type": "display_data",
          "data": {
            "text/plain": [
              "<Figure size 640x480 with 1 Axes>"
            ],
            "image/png": "[encoded data removed]"
          },
          "metadata": {}
        }
      ]
    },
    {
      "cell_type": "markdown",
      "source": [
        "백터의 기본 연산(스칼라곱)"
      ],
      "metadata": {
        "id": "sc1VbYF4g6S9"
      }
    },
    {
      "cell_type": "code",
      "source": [
        "import numpy as np\n",
        "import matplotlib.pyplot as plt\n",
        "\n",
        "a=np.array([4,1])\n",
        "c=3\n",
        "ca=np.multiply(c,a)\n",
        "\n",
        "fig=plt.figure()\n",
        "ax=fig.add_subplot(1,1,1)\n",
        "\n",
        "ax.quiver(0,0,a[0],a[1],angles='xy',scale_units='xy',scale=1,color='blue')\n",
        "ax.text(a[0],a[1],'a',size=15)\n",
        "\n",
        "ax.quiver(0,1,ca[0],ca[1],angles='xy',scale_units='xy',scale=1,color='green')\n",
        "ax.text(ca[0],ca[1]+1,'3a',size=15, color='blue')\n",
        "\n",
        "ax.set_xticks(range(-2,15))\n",
        "ax.set_yticks(range(-3,9))\n",
        "ax.grid()\n",
        "ax.set_axisbelow(True)\n",
        "ax.set_aspect('equal',adjustable='box')\n",
        "\n",
        "ax.spines['left'].set_position('zero')\n",
        "ax.spines['bottom'].set_position('zero')\n",
        "ax.spines['right'].set_color('none')\n",
        "ax.spines['top'].set_color('none')\n",
        "plt.show()"
      ],
      "metadata": {
        "colab": {
          "base_uri": "https://localhost:8080/",
          "height": 392
        },
        "id": "sMgqyqyzg9Pd",
        "outputId": "a01afd1c-9301-461f-8463-910fcfd289f2"
      },
      "execution_count": 21,
      "outputs": [
        {
          "output_type": "display_data",
          "data": {
            "text/plain": [
              "<Figure size 640x480 with 1 Axes>"
            ],
            "image/png": "[encoded data removed]"
          },
          "metadata": {}
        }
      ]
    },
    {
      "cell_type": "markdown",
      "source": [
        "내적"
      ],
      "metadata": {
        "id": "zbZL3MUpj1hz"
      }
    },
    {
      "cell_type": "code",
      "source": [
        "import numpy as np\n",
        "a=np.array([1,2])\n",
        "b=np.array([2,3])\n",
        "print(np.dot(a,b))"
      ],
      "metadata": {
        "colab": {
          "base_uri": "https://localhost:8080/"
        },
        "id": "YBL-Yb5Vj2Ui",
        "outputId": "4c6cde2b-f1ec-487e-c0f7-4e3acecf26b6"
      },
      "execution_count": 22,
      "outputs": [
        {
          "output_type": "stream",
          "name": "stdout",
          "text": [
            "8\n"
          ]
        }
      ]
    },
    {
      "cell_type": "code",
      "source": [
        "import numpy as np\n",
        "a=np.array([1,2])\n",
        "print(np.linalg.norm(a))\n",
        "print(np.sqrt(5))"
      ],
      "metadata": {
        "colab": {
          "base_uri": "https://localhost:8080/"
        },
        "id": "eQkcNRgrj_I5",
        "outputId": "ecfb5e73-529f-4f50-a401-1cb0589f5735"
      },
      "execution_count": 23,
      "outputs": [
        {
          "output_type": "stream",
          "name": "stdout",
          "text": [
            "2.23606797749979\n",
            "2.23606797749979\n"
          ]
        }
      ]
    },
    {
      "cell_type": "code",
      "source": [
        "import numpy as np\n",
        "a=np.array([1,2])\n",
        "print(np.sqrt(np.dot(a,a)))\n",
        "print(np.linalg.norm(a))"
      ],
      "metadata": {
        "colab": {
          "base_uri": "https://localhost:8080/"
        },
        "id": "WOnOojFnkQOl",
        "outputId": "cdfc2058-39bd-4a7a-996b-8f711a60ae17"
      },
      "execution_count": 24,
      "outputs": [
        {
          "output_type": "stream",
          "name": "stdout",
          "text": [
            "2.23606797749979\n",
            "2.23606797749979\n"
          ]
        }
      ]
    },
    {
      "cell_type": "code",
      "source": [
        "import numpy as np\n",
        "a=np.array([3,3])\n",
        "b=np.array([3,0])\n",
        "print(np.dot(a,b))\n",
        "norm_a=np.linalg.norm(a)\n",
        "norm_b=np.linalg.norm(b)\n",
        "print(norm_a*norm_b*np.cos(45*np.pi/100))\n"
      ],
      "metadata": {
        "colab": {
          "base_uri": "https://localhost:8080/"
        },
        "id": "kpSzV00OkazZ",
        "outputId": "03c05933-e25c-43ae-c24d-3c989e0a4d1e"
      },
      "execution_count": 25,
      "outputs": [
        {
          "output_type": "stream",
          "name": "stdout",
          "text": [
            "9\n",
            "1.9910856787422693\n"
          ]
        }
      ]
    },
    {
      "cell_type": "code",
      "source": [
        "import numpy as np\n",
        "a=np.array([3,0])\n",
        "b=np.array([0,3])\n",
        "print(np.dot(a,b))"
      ],
      "metadata": {
        "colab": {
          "base_uri": "https://localhost:8080/"
        },
        "id": "EV3tbRizkwrK",
        "outputId": "e8e7865a-d6d2-4bf3-b978-1e03ff098155"
      },
      "execution_count": 26,
      "outputs": [
        {
          "output_type": "stream",
          "name": "stdout",
          "text": [
            "0\n"
          ]
        }
      ]
    },
    {
      "cell_type": "markdown",
      "source": [
        "외적"
      ],
      "metadata": {
        "id": "UzZPPgpXk6_3"
      }
    },
    {
      "cell_type": "code",
      "source": [
        "import numpy as np\n",
        "v=np.array([5,3,0])\n",
        "w=np.array([1,2,0])\n",
        "print(np.cross(v,w))"
      ],
      "metadata": {
        "colab": {
          "base_uri": "https://localhost:8080/"
        },
        "id": "5I0E21uDk77r",
        "outputId": "75fc7ade-90de-4817-ead9-ce05bcaa467c"
      },
      "execution_count": 27,
      "outputs": [
        {
          "output_type": "stream",
          "name": "stdout",
          "text": [
            "[0 0 7]\n"
          ]
        }
      ]
    },
    {
      "cell_type": "code",
      "source": [
        "import numpy as np\n",
        "import matplotlib.pyplot as plt\n",
        "from mpl_toolkits.mplot3d import Axes3D\n",
        "a=np.array([5,3,0])\n",
        "b=np.array([1,2,0])\n",
        "\n",
        "c=np.cross(a,b)\n",
        "fig=plt.figure()\n",
        "ax=fig.add_subplot(1,1,1,projection='3d')\n",
        "\n",
        "ax.quiver(0,0,0,a[0],a[1],a[2],color='black',arrow_length_ratio=0.1)\n",
        "ax.text(a[0],a[1],a[2],'a',size=15)\n",
        "\n",
        "ax.quiver(0,0,0,b[0],b[1],b[2],color='red',arrow_length_ratio=0.1)\n",
        "ax.text(b[0],b[1],b[2],'b',size=15)\n",
        "\n",
        "ax.quiver(0,0,0,c[0],c[1],c[2],color='blue',arrow_length_ratio=0.1)\n",
        "ax.text(c[0],c[1],c[2],'c',size=15)\n",
        "ax.set_xlim(0,7)\n",
        "ax.set_ylim(0,7)\n",
        "ax.set_zlim(0,8)\n",
        "ax.set_xlabel('x')\n",
        "ax.set_ylabel('y')\n",
        "ax.set_zlabel('z')\n",
        "ax.view_init(elev=20,azim=5)\n",
        "ax.grid()\n",
        "ax.set_axisbelow(True)\n",
        "ax.set_aspect('auto',adjustable='box')\n",
        "plt.show()\n"
      ],
      "metadata": {
        "colab": {
          "base_uri": "https://localhost:8080/",
          "height": 406
        },
        "id": "ldYpiycHlHg3",
        "outputId": "9cdfe41f-2b55-4852-80d9-f4d2d1f881c8"
      },
      "execution_count": 30,
      "outputs": [
        {
          "output_type": "display_data",
          "data": {
            "text/plain": [
              "<Figure size 640x480 with 1 Axes>"
            ],
            "image/png": "[encoded data removed]"
          },
          "metadata": {}
        }
      ]
    },
    {
      "cell_type": "code",
      "source": [
        "import numpy as np\n",
        "a=np.array([3,3,0])\n",
        "b=np.array([6,6,0])\n",
        "print(np.cross(a,b))"
      ],
      "metadata": {
        "colab": {
          "base_uri": "https://localhost:8080/"
        },
        "id": "9BbvyzAlnEZT",
        "outputId": "316b1b7f-c187-42d4-9746-44bdd09f0939"
      },
      "execution_count": 31,
      "outputs": [
        {
          "output_type": "stream",
          "name": "stdout",
          "text": [
            "[0 0 0]\n"
          ]
        }
      ]
    },
    {
      "cell_type": "code",
      "source": [
        "import numpy as np\n",
        "import matplotlib.pyplot as plt\n",
        "from mpl_toolkits.mplot3d import Axes3D\n",
        "a=np.array([3,3,0])\n",
        "b=np.array([6,6,0])\n",
        "\n",
        "c=np.cross(a,b)\n",
        "fig=plt.figure()\n",
        "ax=fig.add_subplot(1,1,1,projection='3d')\n",
        "\n",
        "ax.quiver(0,0,0,a[0],a[1],a[2],color='black',arrow_length_ratio=0.1)\n",
        "ax.text(a[0],a[1],a[2],'a',size=15)\n",
        "\n",
        "ax.quiver(0,0,0,b[0],b[1],b[2],color='red',arrow_length_ratio=0.1)\n",
        "ax.text(b[0],b[1],b[2],'b',size=15)\n",
        "\n",
        "ax.quiver(0,0,0,c[0],c[1],c[2],color='blue',arrow_length_ratio=0.1)\n",
        "ax.text(c[0],c[1],c[2],'c',size=15)\n",
        "ax.set_xlim(0,7)\n",
        "ax.set_ylim(0,7)\n",
        "ax.set_zlim(0,8)\n",
        "ax.set_xlabel('x')\n",
        "ax.set_ylabel('y')\n",
        "ax.set_zlabel('z')\n",
        "ax.view_init(elev=20,azim=5)\n",
        "ax.grid()\n",
        "ax.set_axisbelow(True)\n",
        "ax.set_aspect('auto',adjustable='box')\n",
        "plt.show()"
      ],
      "metadata": {
        "colab": {
          "base_uri": "https://localhost:8080/",
          "height": 406
        },
        "id": "61Tvr37InMa1",
        "outputId": "6e2b180f-05aa-4f10-9ecb-425019a096b6"
      },
      "execution_count": 32,
      "outputs": [
        {
          "output_type": "display_data",
          "data": {
            "text/plain": [
              "<Figure size 640x480 with 1 Axes>"
            ],
            "image/png": "[encoded data removed]"
          },
          "metadata": {}
        }
      ]
    },
    {
      "cell_type": "markdown",
      "source": [
        "행렬정의"
      ],
      "metadata": {
        "id": "YTYPl6tJnV5r"
      }
    },
    {
      "cell_type": "code",
      "source": [
        "import numpy as np\n",
        "A=np.array([[1,2,3,4],[5,6,7,8]])\n",
        "\n",
        "print(A[0])\n",
        "print(A[0,:])\n",
        "print(A[1])\n",
        "print(A[1,:])\n",
        "\n",
        "print(A[:,0])\n",
        "print(A[:,1])\n",
        "print(A[:,2])\n",
        "print(A[:,3])"
      ],
      "metadata": {
        "colab": {
          "base_uri": "https://localhost:8080/"
        },
        "id": "iSe1p7lInXAI",
        "outputId": "ffdd4124-2325-478b-c79e-95258b8d7c02"
      },
      "execution_count": 37,
      "outputs": [
        {
          "output_type": "stream",
          "name": "stdout",
          "text": [
            "[1 2 3 4]\n",
            "[1 2 3 4]\n",
            "[5 6 7 8]\n",
            "[5 6 7 8]\n",
            "[1 5]\n",
            "[2 6]\n",
            "[3 7]\n",
            "[4 8]\n"
          ]
        }
      ]
    },
    {
      "cell_type": "code",
      "source": [
        "import numpy as np\n",
        "A=np.array([[1,2],[3,4]])\n",
        "B=np.array([[4,1],[5,2]])\n",
        "print(A+B)\n",
        "print(np.add(A,B))\n",
        "print(A-B)\n",
        "print(np.subtract(A,B))"
      ],
      "metadata": {
        "colab": {
          "base_uri": "https://localhost:8080/"
        },
        "id": "BR-6_bxfoGE6",
        "outputId": "891096d2-3a70-49ed-f6d4-f7202c9f814d"
      },
      "execution_count": 38,
      "outputs": [
        {
          "output_type": "stream",
          "name": "stdout",
          "text": [
            "[[5 3]\n",
            " [8 6]]\n",
            "[[5 3]\n",
            " [8 6]]\n",
            "[[-3  1]\n",
            " [-2  2]]\n",
            "[[-3  1]\n",
            " [-2  2]]\n"
          ]
        }
      ]
    },
    {
      "cell_type": "code",
      "source": [
        "import numpy as np\n",
        "A=np.arange(9).reshape(3,3)\n",
        "print(A)\n",
        "c=10\n",
        "print(np.multiply(c,A))\n",
        "print(c*A)"
      ],
      "metadata": {
        "colab": {
          "base_uri": "https://localhost:8080/"
        },
        "id": "RV_J7gkioWze",
        "outputId": "f6c57199-2f97-4099-c833-b98321727139"
      },
      "execution_count": 39,
      "outputs": [
        {
          "output_type": "stream",
          "name": "stdout",
          "text": [
            "[[0 1 2]\n",
            " [3 4 5]\n",
            " [6 7 8]]\n",
            "[[ 0 10 20]\n",
            " [30 40 50]\n",
            " [60 70 80]]\n",
            "[[ 0 10 20]\n",
            " [30 40 50]\n",
            " [60 70 80]]\n"
          ]
        }
      ]
    },
    {
      "cell_type": "markdown",
      "source": [
        "행렬의 곱셈"
      ],
      "metadata": {
        "id": "M4-ifSBQoiih"
      }
    },
    {
      "cell_type": "code",
      "source": [
        "import numpy as np\n",
        "A=np.array([[1,2,3],[4,5,6]])\n",
        "B=np.array([[4,1],[5,2],[1,2]])\n",
        "print(A)\n",
        "print(B)\n",
        "print(A.dot(B))\n",
        "print(np.dot(A,B))"
      ],
      "metadata": {
        "colab": {
          "base_uri": "https://localhost:8080/"
        },
        "id": "Ure79kBNomza",
        "outputId": "3c141d7c-eba1-4c07-a35c-e2a5e83e4abe"
      },
      "execution_count": 40,
      "outputs": [
        {
          "output_type": "stream",
          "name": "stdout",
          "text": [
            "[[1 2 3]\n",
            " [4 5 6]]\n",
            "[[4 1]\n",
            " [5 2]\n",
            " [1 2]]\n",
            "[[17 11]\n",
            " [47 26]]\n",
            "[[17 11]\n",
            " [47 26]]\n"
          ]
        }
      ]
    },
    {
      "cell_type": "code",
      "source": [
        "import numpy as np\n",
        "A=np.array([[1,2],[3,4]])\n",
        "B=np.array([[4,1],[5,2]])\n",
        "print(A*B)\n",
        "print(np.multiply(A,B))"
      ],
      "metadata": {
        "colab": {
          "base_uri": "https://localhost:8080/"
        },
        "id": "IVbphU_6o_AW",
        "outputId": "f3cdc7c1-8998-4ef5-ad14-1c326172f4e2"
      },
      "execution_count": 41,
      "outputs": [
        {
          "output_type": "stream",
          "name": "stdout",
          "text": [
            "[[ 4  2]\n",
            " [15  8]]\n",
            "[[ 4  2]\n",
            " [15  8]]\n"
          ]
        }
      ]
    },
    {
      "cell_type": "markdown",
      "source": [
        "백터의 전치"
      ],
      "metadata": {
        "id": "JO8ohDhXpLUF"
      }
    },
    {
      "cell_type": "code",
      "source": [
        "import numpy as np\n",
        "x=np.array([[1,2],[3,4],[5,6]])\n",
        "print(x)\n",
        "print(x.T)\n",
        "print(np.transpose(x))"
      ],
      "metadata": {
        "colab": {
          "base_uri": "https://localhost:8080/"
        },
        "id": "6YTvEZoppMqQ",
        "outputId": "18de000e-0dd3-4bda-9cf6-215f3c6bb632"
      },
      "execution_count": 42,
      "outputs": [
        {
          "output_type": "stream",
          "name": "stdout",
          "text": [
            "[[1 2]\n",
            " [3 4]\n",
            " [5 6]]\n",
            "[[1 3 5]\n",
            " [2 4 6]]\n",
            "[[1 3 5]\n",
            " [2 4 6]]\n"
          ]
        }
      ]
    },
    {
      "cell_type": "markdown",
      "source": [],
      "metadata": {
        "id": "vuIoL4jYpYRs"
      }
    },
    {
      "cell_type": "markdown",
      "source": [
        "항등행렬 역행렬"
      ],
      "metadata": {
        "id": "lWa2rnPOpYTX"
      }
    },
    {
      "cell_type": "code",
      "source": [
        "import numpy as np\n",
        "I=np.eye(3)\n",
        "A=np.arange(9).reshape(3,3)\n",
        "print(A)\n",
        "print((np.dot(A,I)==A).all())\n",
        "print((np.dot(I,A)==A).all())"
      ],
      "metadata": {
        "colab": {
          "base_uri": "https://localhost:8080/"
        },
        "id": "vnCYl-cWpaYX",
        "outputId": "72a61bce-3070-4eb8-fabd-1a042d61620f"
      },
      "execution_count": 43,
      "outputs": [
        {
          "output_type": "stream",
          "name": "stdout",
          "text": [
            "[[0 1 2]\n",
            " [3 4 5]\n",
            " [6 7 8]]\n",
            "True\n",
            "True\n"
          ]
        }
      ]
    },
    {
      "cell_type": "markdown",
      "source": [],
      "metadata": {
        "id": "2Vnqaf5jpmv6"
      }
    },
    {
      "cell_type": "markdown",
      "source": [
        "역행렬"
      ],
      "metadata": {
        "id": "kyvTBuXgpmxk"
      }
    },
    {
      "cell_type": "code",
      "source": [
        "import numpy as np\n",
        "A=np.array([[1,2],[3,4]])\n",
        "invA=np.linalg.inv(A)\n",
        "print(invA)\n",
        "\n",
        "print(np.dot(A,invA))\n",
        "print(np.round(np.dot(A,invA)))\n",
        "print(np.round(np.dot(invA,A)))"
      ],
      "metadata": {
        "colab": {
          "base_uri": "https://localhost:8080/"
        },
        "id": "gc_JQbOXpn5v",
        "outputId": "32816073-df6f-4935-9319-80c8ad84f321"
      },
      "execution_count": 45,
      "outputs": [
        {
          "output_type": "stream",
          "name": "stdout",
          "text": [
            "[[-2.   1. ]\n",
            " [ 1.5 -0.5]]\n",
            "[[1.0000000e+00 0.0000000e+00]\n",
            " [8.8817842e-16 1.0000000e+00]]\n",
            "[[1. 0.]\n",
            " [0. 1.]]\n",
            "[[1. 0.]\n",
            " [0. 1.]]\n"
          ]
        }
      ]
    }
  ]
}