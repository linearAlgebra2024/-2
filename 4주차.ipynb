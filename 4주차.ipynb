{
  "nbformat": 4,
  "nbformat_minor": 0,
  "metadata": {
    "colab": {
      "provenance": [],
      "mount_file_id": "1PKaVIMC4oxyKcSDAqM35dO-n12gAnj4N",
      "authorship_tag": "ABX9TyO+gNR56hI1Gk+5+7Or0yPp",
      "include_colab_link": true
    },
    "kernelspec": {
      "name": "python3",
      "display_name": "Python 3"
    },
    "language_info": {
      "name": "python"
    }
  },
  "cells": [
    {
      "cell_type": "markdown",
      "metadata": {
        "id": "view-in-github",
        "colab_type": "text"
      },
      "source": [
        "<a href=\"https://colab.research.google.com/github/linearAlgebra2024/linearAlgebra/blob/feat-minsup/4%EC%A3%BC%EC%B0%A8.ipynb\" target=\"_parent\"><img src=\"https://colab.research.google.com/assets/colab-badge.svg\" alt=\"Open In Colab\"/></a>"
      ]
    },
    {
      "cell_type": "code",
      "source": [
        "import numpy as np\n",
        "A=np.array([1,2,3])\n",
        "print(len(A))\n",
        "\n",
        "print(type(A[0]))\n",
        "print(type(A[1]))\n",
        "print(type(A[2]))"
      ],
      "metadata": {
        "colab": {
          "base_uri": "https://localhost:8080/"
        },
        "id": "h-cqh4YSoVoM",
        "outputId": "a7eeccda-e885-48a6-e8a9-7445067bda55"
      },
      "execution_count": 2,
      "outputs": [
        {
          "output_type": "stream",
          "name": "stdout",
          "text": [
            "3\n",
            "<class 'numpy.int64'>\n",
            "<class 'numpy.int64'>\n",
            "<class 'numpy.int64'>\n"
          ]
        }
      ]
    },
    {
      "cell_type": "code",
      "execution_count": 1,
      "metadata": {
        "colab": {
          "base_uri": "https://localhost:8080/"
        },
        "id": "DPx7A7HdZbXc",
        "outputId": "44a06f03-bb1d-4410-ccc9-996225cacebc"
      },
      "outputs": [
        {
          "output_type": "stream",
          "name": "stdout",
          "text": [
            "[0 0 0]\n"
          ]
        }
      ],
      "source": [
        "import numpy as np\n",
        "A=np.array([1,2,3])\n",
        "B=np.array([-1,-2,-3])\n",
        "C=A+B\n",
        "\n",
        "print(C)"
      ]
    },
    {
      "cell_type": "code",
      "source": [
        "import numpy as np\n",
        "B = np.array([[0,1,2,3],[4,5,6,7],[8,9,10,11]])\n",
        "print(B)\n",
        "print(B.shape)\n"
      ],
      "metadata": {
        "colab": {
          "base_uri": "https://localhost:8080/"
        },
        "id": "noEDVxMxpZ9Z",
        "outputId": "17e81c33-3bf9-4d6d-b40e-d9ddff586f20"
      },
      "execution_count": 7,
      "outputs": [
        {
          "output_type": "stream",
          "name": "stdout",
          "text": [
            "[[ 0  1  2  3]\n",
            " [ 4  5  6  7]\n",
            " [ 8  9 10 11]]\n",
            "(3, 4)\n"
          ]
        }
      ]
    },
    {
      "cell_type": "code",
      "source": [
        "import numpy as np\n",
        "C=np.arange(24).reshape(2,3,4)\n",
        "print(C)\n",
        "print(C.shape)"
      ],
      "metadata": {
        "colab": {
          "base_uri": "https://localhost:8080/"
        },
        "id": "LT9QpQVQqBhr",
        "outputId": "681ef7ca-60e3-4803-e59e-ca604a7885bc"
      },
      "execution_count": 8,
      "outputs": [
        {
          "output_type": "stream",
          "name": "stdout",
          "text": [
            "[[[ 0  1  2  3]\n",
            "  [ 4  5  6  7]\n",
            "  [ 8  9 10 11]]\n",
            "\n",
            " [[12 13 14 15]\n",
            "  [16 17 18 19]\n",
            "  [20 21 22 23]]]\n",
            "(2, 3, 4)\n"
          ]
        }
      ]
    },
    {
      "cell_type": "code",
      "source": [
        "import numpy as np\n",
        "A=np.zeros((2,3))\n",
        "print(A)\n",
        "print(A.dtype)"
      ],
      "metadata": {
        "colab": {
          "base_uri": "https://localhost:8080/"
        },
        "id": "2vXLiWBuqRev",
        "outputId": "e8ce60fb-a595-4441-c37f-00d09d67058a"
      },
      "execution_count": 9,
      "outputs": [
        {
          "output_type": "stream",
          "name": "stdout",
          "text": [
            "[[0. 0. 0.]\n",
            " [0. 0. 0.]]\n",
            "float64\n"
          ]
        }
      ]
    },
    {
      "cell_type": "code",
      "source": [
        "import numpy as np\n",
        "A=np.ones((2,3))\n",
        "print(A)\n",
        "print(A.dtype)"
      ],
      "metadata": {
        "colab": {
          "base_uri": "https://localhost:8080/"
        },
        "id": "wZYTgPxZqreM",
        "outputId": "9e80caa0-6be0-42df-90ce-8ba8669994f9"
      },
      "execution_count": 11,
      "outputs": [
        {
          "output_type": "stream",
          "name": "stdout",
          "text": [
            "[[1. 1. 1.]\n",
            " [1. 1. 1.]]\n",
            "float64\n"
          ]
        }
      ]
    },
    {
      "cell_type": "code",
      "source": [
        "import numpy as np\n",
        "A=np.random.random((3,3))\n",
        "print(A)\n",
        "print(A.dtype)"
      ],
      "metadata": {
        "colab": {
          "base_uri": "https://localhost:8080/"
        },
        "id": "QewLa5eZqzfu",
        "outputId": "6188bc25-bea8-4d6e-a6a7-431892bf30e4"
      },
      "execution_count": 13,
      "outputs": [
        {
          "output_type": "stream",
          "name": "stdout",
          "text": [
            "[[0.71198931 0.39840184 0.22443198]\n",
            " [0.56270123 0.74435518 0.24334825]\n",
            " [0.81467495 0.59050106 0.69999754]]\n",
            "float64\n"
          ]
        }
      ]
    },
    {
      "cell_type": "code",
      "source": [
        "import numpy as np\n",
        "A=np.arange(0,50,5)\n",
        "print(A)\n",
        "B=np.arange(0.1,2.5)\n",
        "print(B)\n",
        "C=np.arange(10)\n",
        "print(C)"
      ],
      "metadata": {
        "colab": {
          "base_uri": "https://localhost:8080/"
        },
        "id": "SpieaOYpZ8lV",
        "outputId": "20bd2cd9-2c3e-4224-c89b-426103d00ea5"
      },
      "execution_count": 9,
      "outputs": [
        {
          "output_type": "stream",
          "name": "stdout",
          "text": [
            "[ 0  5 10 15 20 25 30 35 40 45]\n",
            "[0.1 1.1 2.1]\n",
            "[0 1 2 3 4 5 6 7 8 9]\n"
          ]
        }
      ]
    },
    {
      "cell_type": "code",
      "source": [
        "import numpy as np\n",
        "A=np.linspace(0,10,10)\n",
        "print(A)\n",
        "B=np.linspace(0,100)\n",
        "print(B)"
      ],
      "metadata": {
        "colab": {
          "base_uri": "https://localhost:8080/"
        },
        "id": "AJbMY_X_rQTs",
        "outputId": "4652be93-1522-4553-cd0f-a733a473b89c"
      },
      "execution_count": 15,
      "outputs": [
        {
          "output_type": "stream",
          "name": "stdout",
          "text": [
            "[ 0.          1.11111111  2.22222222  3.33333333  4.44444444  5.55555556\n",
            "  6.66666667  7.77777778  8.88888889 10.        ]\n",
            "[  0.           2.04081633   4.08163265   6.12244898   8.16326531\n",
            "  10.20408163  12.24489796  14.28571429  16.32653061  18.36734694\n",
            "  20.40816327  22.44897959  24.48979592  26.53061224  28.57142857\n",
            "  30.6122449   32.65306122  34.69387755  36.73469388  38.7755102\n",
            "  40.81632653  42.85714286  44.89795918  46.93877551  48.97959184\n",
            "  51.02040816  53.06122449  55.10204082  57.14285714  59.18367347\n",
            "  61.2244898   63.26530612  65.30612245  67.34693878  69.3877551\n",
            "  71.42857143  73.46938776  75.51020408  77.55102041  79.59183673\n",
            "  81.63265306  83.67346939  85.71428571  87.75510204  89.79591837\n",
            "  91.83673469  93.87755102  95.91836735  97.95918367 100.        ]\n"
          ]
        }
      ]
    },
    {
      "cell_type": "code",
      "source": [
        "import numpy as np\n",
        "A=np.arange(16)\n",
        "B=A.reshape(4,4)\n",
        "print(B)\n",
        "print(B.shape)\n",
        "print(B.base)\n",
        "print(B.base is A)\n"
      ],
      "metadata": {
        "colab": {
          "base_uri": "https://localhost:8080/"
        },
        "id": "w76P8QD5f3a3",
        "outputId": "6848ef87-7f80-4e8a-ed66-5f69e5a9230d"
      },
      "execution_count": 10,
      "outputs": [
        {
          "output_type": "stream",
          "name": "stdout",
          "text": [
            "[[ 0  1  2  3]\n",
            " [ 4  5  6  7]\n",
            " [ 8  9 10 11]\n",
            " [12 13 14 15]]\n",
            "(4, 4)\n",
            "[ 0  1  2  3  4  5  6  7  8  9 10 11 12 13 14 15]\n",
            "True\n"
          ]
        }
      ]
    },
    {
      "cell_type": "code",
      "source": [
        "import numpy as np\n",
        "A=np.arange(16)\n",
        "B=A.reshape(4,4)\n",
        "print(B)\n",
        "print(B.shape)\n",
        "print(B.base)\n",
        "print(B.base is A)\n",
        "\n",
        "B[0]=-1\n",
        "print(A)\n",
        "print(B)\n",
        "\n",
        "C=B.reshape(2,8).copy()\n",
        "print(C)\n",
        "print(C.shape)\n",
        "C[0]=0\n",
        "print(B)\n",
        "print(C)"
      ],
      "metadata": {
        "colab": {
          "base_uri": "https://localhost:8080/"
        },
        "id": "Xv25MOE5gNjB",
        "outputId": "78afaabd-8944-446e-98ea-a0e10222ccd5"
      },
      "execution_count": 11,
      "outputs": [
        {
          "output_type": "stream",
          "name": "stdout",
          "text": [
            "[[ 0  1  2  3]\n",
            " [ 4  5  6  7]\n",
            " [ 8  9 10 11]\n",
            " [12 13 14 15]]\n",
            "(4, 4)\n",
            "[ 0  1  2  3  4  5  6  7  8  9 10 11 12 13 14 15]\n",
            "True\n",
            "[-1 -1 -1 -1  4  5  6  7  8  9 10 11 12 13 14 15]\n",
            "[[-1 -1 -1 -1]\n",
            " [ 4  5  6  7]\n",
            " [ 8  9 10 11]\n",
            " [12 13 14 15]]\n",
            "[[-1 -1 -1 -1  4  5  6  7]\n",
            " [ 8  9 10 11 12 13 14 15]]\n",
            "(2, 8)\n",
            "[[-1 -1 -1 -1]\n",
            " [ 4  5  6  7]\n",
            " [ 8  9 10 11]\n",
            " [12 13 14 15]]\n",
            "[[ 0  0  0  0  0  0  0  0]\n",
            " [ 8  9 10 11 12 13 14 15]]\n"
          ]
        }
      ]
    },
    {
      "cell_type": "code",
      "source": [
        "import numpy as np\n",
        "A=np.array([[1,2],[3,4]])\n",
        "print(A)\n",
        "print(A.shape)\n",
        "B=A.ravel()\n",
        "print(B)\n",
        "print(B.shape)\n",
        "print(B.base)\n",
        "print(B.base is A)"
      ],
      "metadata": {
        "colab": {
          "base_uri": "https://localhost:8080/"
        },
        "id": "bvoa_KpSg6T7",
        "outputId": "23d8762e-96d9-45de-ec60-72c019930c10"
      },
      "execution_count": 12,
      "outputs": [
        {
          "output_type": "stream",
          "name": "stdout",
          "text": [
            "[[1 2]\n",
            " [3 4]]\n",
            "(2, 2)\n",
            "[1 2 3 4]\n",
            "(4,)\n",
            "[[1 2]\n",
            " [3 4]]\n",
            "True\n"
          ]
        }
      ]
    },
    {
      "cell_type": "code",
      "source": [
        "import numpy as np\n",
        "A=np.arange(12)\n",
        "print(A)\n",
        "A.resize(3,4)\n",
        "print(A)"
      ],
      "metadata": {
        "colab": {
          "base_uri": "https://localhost:8080/"
        },
        "id": "89B91Qh7hPlr",
        "outputId": "41313f38-4f2f-488d-8b85-a1db61fddb26"
      },
      "execution_count": 13,
      "outputs": [
        {
          "output_type": "stream",
          "name": "stdout",
          "text": [
            "[ 0  1  2  3  4  5  6  7  8  9 10 11]\n",
            "[[ 0  1  2  3]\n",
            " [ 4  5  6  7]\n",
            " [ 8  9 10 11]]\n"
          ]
        }
      ]
    },
    {
      "cell_type": "code",
      "source": [
        "import numpy as np\n",
        "A=np.array([1,2,3])\n",
        "A=A[:,np.newaxis]\n",
        "print(A.shape)\n",
        "print(A)\n",
        "B=np.array([4,5,6])\n",
        "B=B[np.newaxis,:]\n",
        "print(B.shape)\n",
        "print(B)"
      ],
      "metadata": {
        "colab": {
          "base_uri": "https://localhost:8080/"
        },
        "id": "rHd_mudOhfdl",
        "outputId": "bd467d6b-31e9-4e22-fb1e-8cd6cf6eb247"
      },
      "execution_count": 14,
      "outputs": [
        {
          "output_type": "stream",
          "name": "stdout",
          "text": [
            "(3, 1)\n",
            "[[1]\n",
            " [2]\n",
            " [3]]\n",
            "(1, 3)\n",
            "[[4 5 6]]\n"
          ]
        }
      ]
    },
    {
      "cell_type": "code",
      "source": [
        "import numpy as np\n",
        "A=np.array([[1,2],[3,4]])\n",
        "B=np.array([[1,0],[0,1]])\n",
        "print(A)\n",
        "print(B)\n",
        "C=np.vstack((A,B))\n",
        "print(C)"
      ],
      "metadata": {
        "colab": {
          "base_uri": "https://localhost:8080/"
        },
        "id": "zwFn2S4GiLQg",
        "outputId": "c362421c-de79-4c58-b87b-92aa60e44770"
      },
      "execution_count": 17,
      "outputs": [
        {
          "output_type": "stream",
          "name": "stdout",
          "text": [
            "[[1 2]\n",
            " [3 4]]\n",
            "[[1 0]\n",
            " [0 1]]\n",
            "[[1 2]\n",
            " [3 4]\n",
            " [1 0]\n",
            " [0 1]]\n"
          ]
        }
      ]
    },
    {
      "cell_type": "code",
      "source": [
        "import numpy as np\n",
        "A=np.array([[1,2],[3,4]])\n",
        "B=np.array([[1,0],[0,1]])\n",
        "print(A)\n",
        "print(B)\n",
        "C=np.hstack((A,B))\n",
        "print(C)"
      ],
      "metadata": {
        "colab": {
          "base_uri": "https://localhost:8080/"
        },
        "id": "F0JGiX0zrk1h",
        "outputId": "7ca34cbc-ac07-4914-844f-97ff5b66dc4c"
      },
      "execution_count": 16,
      "outputs": [
        {
          "output_type": "stream",
          "name": "stdout",
          "text": [
            "[[1 2]\n",
            " [3 4]]\n",
            "[[1 0]\n",
            " [0 1]]\n",
            "[[1 2 1 0]\n",
            " [3 4 0 1]]\n"
          ]
        }
      ]
    },
    {
      "cell_type": "code",
      "source": [
        "import numpy as np\n",
        "A=np.array([1,2,3])\n",
        "B=np.array([4,5,6])\n",
        "C=np.array([7,8,9])\n",
        "E=np.column_stack((A,B,C))\n",
        "print(E)"
      ],
      "metadata": {
        "colab": {
          "base_uri": "https://localhost:8080/"
        },
        "id": "fgulC3WOsAAy",
        "outputId": "abab5bde-a2a2-49ba-d442-98c0d22d16ef"
      },
      "execution_count": 17,
      "outputs": [
        {
          "output_type": "stream",
          "name": "stdout",
          "text": [
            "[[1 4 7]\n",
            " [2 5 8]\n",
            " [3 6 9]]\n"
          ]
        }
      ]
    },
    {
      "cell_type": "code",
      "source": [
        "import numpy as np\n",
        "A=np.arange(9).reshape(3,3)\n",
        "a=np.hsplit(A,3)\n",
        "print(A)\n",
        "print(a)"
      ],
      "metadata": {
        "colab": {
          "base_uri": "https://localhost:8080/"
        },
        "id": "qPGleKc5sfUu",
        "outputId": "0efd807c-8777-4f09-ba1f-0bc86ae5ef4e"
      },
      "execution_count": 19,
      "outputs": [
        {
          "output_type": "stream",
          "name": "stdout",
          "text": [
            "[[0 1 2]\n",
            " [3 4 5]\n",
            " [6 7 8]]\n",
            "[array([[0],\n",
            "       [3],\n",
            "       [6]]), array([[1],\n",
            "       [4],\n",
            "       [7]]), array([[2],\n",
            "       [5],\n",
            "       [8]])]\n"
          ]
        }
      ]
    },
    {
      "cell_type": "code",
      "source": [
        "import numpy as np\n",
        "B=np.arange(18).reshape(3,6)\n",
        "print(B)\n",
        "b=np.hsplit(B,(2,5))\n",
        "print(b[0])\n",
        "print(b[1])\n",
        "print(b[2])"
      ],
      "metadata": {
        "colab": {
          "base_uri": "https://localhost:8080/"
        },
        "id": "U1d-bjahsv4z",
        "outputId": "9d8649eb-6606-4aae-f69a-8f5db37777cd"
      },
      "execution_count": 20,
      "outputs": [
        {
          "output_type": "stream",
          "name": "stdout",
          "text": [
            "[[ 0  1  2  3  4  5]\n",
            " [ 6  7  8  9 10 11]\n",
            " [12 13 14 15 16 17]]\n",
            "[[ 0  1]\n",
            " [ 6  7]\n",
            " [12 13]]\n",
            "[[ 2  3  4]\n",
            " [ 8  9 10]\n",
            " [14 15 16]]\n",
            "[[ 5]\n",
            " [11]\n",
            " [17]]\n"
          ]
        }
      ]
    },
    {
      "cell_type": "code",
      "source": [
        "import numpy as np\n",
        "A=np.arange(9).reshape(3,3)\n",
        "print(A)\n",
        "a=np.vsplit(A,3)\n",
        "print(a)"
      ],
      "metadata": {
        "colab": {
          "base_uri": "https://localhost:8080/"
        },
        "id": "gEPvteMus9pv",
        "outputId": "2c89a954-1986-47aa-a4aa-7c05f5beebc4"
      },
      "execution_count": 21,
      "outputs": [
        {
          "output_type": "stream",
          "name": "stdout",
          "text": [
            "[[0 1 2]\n",
            " [3 4 5]\n",
            " [6 7 8]]\n",
            "[array([[0, 1, 2]]), array([[3, 4, 5]]), array([[6, 7, 8]])]\n"
          ]
        }
      ]
    },
    {
      "cell_type": "code",
      "source": [
        "import numpy as np\n",
        "B=np.arange(24).reshape(6,4)\n",
        "print(B)\n",
        "b=np.vsplit(B,(1,4))\n",
        "print(b[0])\n",
        "print(b[1])\n",
        "print(b[2])"
      ],
      "metadata": {
        "colab": {
          "base_uri": "https://localhost:8080/"
        },
        "id": "E6uRlENDtIwc",
        "outputId": "31d6aab7-8ade-4840-cf9d-5321acda31ef"
      },
      "execution_count": 24,
      "outputs": [
        {
          "output_type": "stream",
          "name": "stdout",
          "text": [
            "[[ 0  1  2  3]\n",
            " [ 4  5  6  7]\n",
            " [ 8  9 10 11]\n",
            " [12 13 14 15]\n",
            " [16 17 18 19]\n",
            " [20 21 22 23]]\n",
            "[[0 1 2 3]]\n",
            "[[ 4  5  6  7]\n",
            " [ 8  9 10 11]\n",
            " [12 13 14 15]]\n",
            "[[16 17 18 19]\n",
            " [20 21 22 23]]\n"
          ]
        }
      ]
    },
    {
      "cell_type": "code",
      "source": [
        "import numpy as np\n",
        "A=np.arange(0,15,2)\n",
        "print(A)\n",
        "print(A[0:3])\n",
        "print(A[0:4])\n",
        "print(A[6:8])\n",
        "print(A[6:])\n",
        "print(A[:])\n",
        "print(A[::2])\n",
        "print(A[:-2])\n",
        "print(A[-2:])\n",
        "print(A[0:3].shape)\n",
        "print(A[0:3].ndim)\n",
        "A[0:3]=100\n",
        "print(A)"
      ],
      "metadata": {
        "colab": {
          "base_uri": "https://localhost:8080/"
        },
        "id": "F9zqCJl_t60S",
        "outputId": "9cdd9949-448b-4930-9dc3-8f71cf76678d"
      },
      "execution_count": 25,
      "outputs": [
        {
          "output_type": "stream",
          "name": "stdout",
          "text": [
            "[ 0  2  4  6  8 10 12 14]\n",
            "[0 2 4]\n",
            "[0 2 4 6]\n",
            "[12 14]\n",
            "[12 14]\n",
            "[ 0  2  4  6  8 10 12 14]\n",
            "[ 0  4  8 12]\n",
            "[ 0  2  4  6  8 10]\n",
            "[12 14]\n",
            "(3,)\n",
            "1\n",
            "[100 100 100   6   8  10  12  14]\n"
          ]
        }
      ]
    },
    {
      "cell_type": "code",
      "source": [
        "import numpy as np\n",
        "A=np.array([[1,2,3,4],[5,6,7,8],[9,10,11,12]])\n",
        "print(A)\n",
        "print(A.shape)\n",
        "print(A[1,2],A[1][2])\n",
        "print(A[0],A[0,:])\n",
        "print(A[1],A[1,:])\n",
        "print(A[:,0])\n",
        "print(A[:,1])\n",
        "A[:2,:2]=0\n",
        "print(A)"
      ],
      "metadata": {
        "colab": {
          "base_uri": "https://localhost:8080/"
        },
        "id": "INAvtWuzukbi",
        "outputId": "e4522f7f-2a04-45c4-e935-0a35a061b10c"
      },
      "execution_count": 26,
      "outputs": [
        {
          "output_type": "stream",
          "name": "stdout",
          "text": [
            "[[ 1  2  3  4]\n",
            " [ 5  6  7  8]\n",
            " [ 9 10 11 12]]\n",
            "(3, 4)\n",
            "7 7\n",
            "[1 2 3 4] [1 2 3 4]\n",
            "[5 6 7 8] [5 6 7 8]\n",
            "[1 5 9]\n",
            "[ 2  6 10]\n",
            "[[ 0  0  3  4]\n",
            " [ 0  0  7  8]\n",
            " [ 9 10 11 12]]\n"
          ]
        }
      ]
    },
    {
      "cell_type": "code",
      "source": [
        "import numpy as np\n",
        "A=np.arange(12)\n",
        "B=A\n",
        "print(A==B)\n",
        "print(A is B)\n",
        "A[0]=100\n",
        "B[11]=-1\n",
        "print(A)\n",
        "print(B)\n",
        "B.shape=3,4\n",
        "print(A.shape)\n",
        "\n",
        "def f(x):\n",
        "  print(id(x))\n",
        "\n",
        "a=np.array([1,2])\n",
        "print(id(a))\n",
        "print(f(a))"
      ],
      "metadata": {
        "colab": {
          "base_uri": "https://localhost:8080/"
        },
        "id": "ZiuiTY2Hip6Q",
        "outputId": "97769b00-85a0-4ca0-833b-b6e073035916"
      },
      "execution_count": 18,
      "outputs": [
        {
          "output_type": "stream",
          "name": "stdout",
          "text": [
            "[ True  True  True  True  True  True  True  True  True  True  True  True]\n",
            "True\n",
            "[100   1   2   3   4   5   6   7   8   9  10  -1]\n",
            "[100   1   2   3   4   5   6   7   8   9  10  -1]\n",
            "(3, 4)\n",
            "139421778180592\n",
            "139421778180592\n",
            "None\n"
          ]
        }
      ]
    },
    {
      "cell_type": "code",
      "source": [
        "import numpy as np\n",
        "a=np.arange(12)\n",
        "\n",
        "b=a.view()\n",
        "\n",
        "print(a)\n",
        "print(b)\n",
        "\n",
        "print(b.base is a,a is b)\n",
        "\n",
        "a[0]=-1\n",
        "b[11]=100\n",
        "print(a)\n",
        "print(b)"
      ],
      "metadata": {
        "colab": {
          "base_uri": "https://localhost:8080/"
        },
        "id": "28pfDqwOmJ0i",
        "outputId": "662d30c4-9e67-478a-8ca4-94e48fc3e9f3"
      },
      "execution_count": 21,
      "outputs": [
        {
          "output_type": "stream",
          "name": "stdout",
          "text": [
            "[ 0  1  2  3  4  5  6  7  8  9 10 11]\n",
            "[ 0  1  2  3  4  5  6  7  8  9 10 11]\n",
            "True False\n",
            "[ -1   1   2   3   4   5   6   7   8   9  10 100]\n",
            "[ -1   1   2   3   4   5   6   7   8   9  10 100]\n"
          ]
        }
      ]
    },
    {
      "cell_type": "code",
      "source": [
        "a.resize(3,4)\n",
        "print(a)\n",
        "print(b)\n",
        "\n",
        "a[0,2]=10000\n",
        "print(a)\n",
        "print(b)\n",
        "\n",
        "c=a[0]\n",
        "c[:]=0\n",
        "print(c)\n",
        "print(a)\n",
        "print(b)"
      ],
      "metadata": {
        "colab": {
          "base_uri": "https://localhost:8080/"
        },
        "id": "vaKXXuPGmoMC",
        "outputId": "87784416-4d89-430a-fad7-03162c09b375"
      },
      "execution_count": 22,
      "outputs": [
        {
          "output_type": "stream",
          "name": "stdout",
          "text": [
            "[[ -1   1   2   3]\n",
            " [  4   5   6   7]\n",
            " [  8   9  10 100]]\n",
            "[ -1   1   2   3   4   5   6   7   8   9  10 100]\n",
            "[[   -1     1 10000     3]\n",
            " [    4     5     6     7]\n",
            " [    8     9    10   100]]\n",
            "[   -1     1 10000     3     4     5     6     7     8     9    10   100]\n",
            "[0 0 0 0]\n",
            "[[  0   0   0   0]\n",
            " [  4   5   6   7]\n",
            " [  8   9  10 100]]\n",
            "[  0   0   0   0   4   5   6   7   8   9  10 100]\n"
          ]
        }
      ]
    },
    {
      "cell_type": "code",
      "source": [
        "import numpy as np\n",
        "a=np.arange(12)\n",
        "\n",
        "b=a.copy()\n",
        "\n",
        "print(a==b)\n",
        "\n",
        "print(a is b)\n",
        "\n",
        "print(b.base is a)\n",
        "\n",
        "a[0]=-1\n",
        "b[11]=10000\n",
        "print(a)\n",
        "print(b)"
      ],
      "metadata": {
        "colab": {
          "base_uri": "https://localhost:8080/"
        },
        "id": "nOzCCUXcnchm",
        "outputId": "bf4e1e87-0a4d-4ecc-ec94-da3821922e5f"
      },
      "execution_count": 23,
      "outputs": [
        {
          "output_type": "stream",
          "name": "stdout",
          "text": [
            "[ True  True  True  True  True  True  True  True  True  True  True  True]\n",
            "False\n",
            "False\n",
            "[-1  1  2  3  4  5  6  7  8  9 10 11]\n",
            "[    0     1     2     3     4     5     6     7     8     9    10 10000]\n"
          ]
        }
      ]
    },
    {
      "cell_type": "code",
      "source": [
        "import numpy as np\n",
        "A=np.array([2,4,6,8]).reshape(2,2)\n",
        "B=np.array([2,2,2,2]).reshape(2,2)\n",
        "print(A)\n",
        "print(B)\n",
        "print(A+B)\n",
        "print(A-B)\n",
        "print(A*B)\n",
        "print(A/B)"
      ],
      "metadata": {
        "colab": {
          "base_uri": "https://localhost:8080/"
        },
        "id": "uPvEe4_QvChh",
        "outputId": "3f8e956f-3c2f-4f7e-977f-6dc761f9ed7d"
      },
      "execution_count": 27,
      "outputs": [
        {
          "output_type": "stream",
          "name": "stdout",
          "text": [
            "[[2 4]\n",
            " [6 8]]\n",
            "[[2 2]\n",
            " [2 2]]\n",
            "[[ 4  6]\n",
            " [ 8 10]]\n",
            "[[0 2]\n",
            " [4 6]]\n",
            "[[ 4  8]\n",
            " [12 16]]\n",
            "[[1. 2.]\n",
            " [3. 4.]]\n"
          ]
        }
      ]
    },
    {
      "cell_type": "code",
      "source": [
        "import numpy as np\n",
        "A=np.arange(10,130,10).reshape(3,4)\n",
        "print(A)\n",
        "B=np.arange(1,5)\n",
        "print(B)\n",
        "print(A+B)"
      ],
      "metadata": {
        "colab": {
          "base_uri": "https://localhost:8080/"
        },
        "id": "LfosEypqvR6c",
        "outputId": "e1d7d590-8d46-4bcf-dd2a-7b5e53727fbb"
      },
      "execution_count": 29,
      "outputs": [
        {
          "output_type": "stream",
          "name": "stdout",
          "text": [
            "[[ 10  20  30  40]\n",
            " [ 50  60  70  80]\n",
            " [ 90 100 110 120]]\n",
            "[1 2 3 4]\n",
            "[[ 11  22  33  44]\n",
            " [ 51  62  73  84]\n",
            " [ 91 102 113 124]]\n"
          ]
        }
      ]
    },
    {
      "cell_type": "code",
      "source": [
        "import numpy as np\n",
        "A=np.arange(10,130,10).reshape(3,4)\n",
        "print(A)\n",
        "B=5\n",
        "print(B)\n",
        "print(A+B)"
      ],
      "metadata": {
        "colab": {
          "base_uri": "https://localhost:8080/"
        },
        "id": "yOnyIf2Qvhbn",
        "outputId": "06165693-3f20-4888-f368-117ed0ee79ea"
      },
      "execution_count": 30,
      "outputs": [
        {
          "output_type": "stream",
          "name": "stdout",
          "text": [
            "[[ 10  20  30  40]\n",
            " [ 50  60  70  80]\n",
            " [ 90 100 110 120]]\n",
            "5\n",
            "[[ 15  25  35  45]\n",
            " [ 55  65  75  85]\n",
            " [ 95 105 115 125]]\n"
          ]
        }
      ]
    },
    {
      "cell_type": "code",
      "source": [
        "import numpy as np\n",
        "A=np.array([[7,2],[-7,5]])\n",
        "B=np.array([-5,12])\n",
        "invA=np.linalg.inv(A)\n",
        "x=np.dot(invA,B)\n",
        "print(x)"
      ],
      "metadata": {
        "colab": {
          "base_uri": "https://localhost:8080/"
        },
        "id": "sAqWZq90pkZC",
        "outputId": "9acd8114-9c88-4c60-f968-e50fd2ac68a2"
      },
      "execution_count": 24,
      "outputs": [
        {
          "output_type": "stream",
          "name": "stdout",
          "text": [
            "[-1.  1.]\n"
          ]
        }
      ]
    },
    {
      "cell_type": "code",
      "source": [
        "import numpy as np\n",
        "A=np.array([[7,2],[-7,5]])\n",
        "B=np.array([-5,12])\n",
        "x=np.linalg.solve(A,B)\n",
        "print(x)"
      ],
      "metadata": {
        "colab": {
          "base_uri": "https://localhost:8080/"
        },
        "id": "njVGejQVp8Ys",
        "outputId": "d32a887d-4f6f-415e-c990-797d8d4ed43b"
      },
      "execution_count": 27,
      "outputs": [
        {
          "output_type": "stream",
          "name": "stdout",
          "text": [
            "[-1.  1.]\n"
          ]
        }
      ]
    },
    {
      "cell_type": "code",
      "source": [
        "import numpy as np\n",
        "import matplotlib.pyplot as plt\n",
        "A=np.array([[7,2],[-7,5]])\n",
        "b=np.array([-5,12])\n",
        "x=np.linalg.solve(A,b)\n",
        "\n",
        "x1,y1=x\n",
        "print(x1,y1)\n",
        "fig=plt.figure()\n",
        "ax=fig.add_subplot(1,1,1)\n",
        "\n",
        "a1=A[:,0]\n",
        "b1=A[:,1]\n",
        "c1=-b\n",
        "\n",
        "for c1,c2,c3 in zip(A[:,0],A[:,1],b):\n",
        "  x=np.linspace(-7,7,100)\n",
        "  y=(c3-c1*x)/c2\n",
        "  ax.plot(x,y,color='black')\n",
        "\n",
        "ax.plot(x1,y1,'ro')\n",
        "ax.axis([-7,7,-7,7])\n",
        "ax.set_xticks(range(-7,7))\n",
        "ax.set_yticks(range(-7,7))\n",
        "ax.grid()\n",
        "ax.set_axisbelow(True)\n",
        "ax.set_aspect('auto',adjustable='box')\n",
        "ax.spines['left'].set_position('zero')\n",
        "ax.spines['bottom'].set_position('zero')\n",
        "ax.spines['right'].set_color('none')\n",
        "ax.spines['top'].set_color('none')\n",
        "plt.show()"
      ],
      "metadata": {
        "colab": {
          "base_uri": "https://localhost:8080/",
          "height": 433
        },
        "id": "8Wy1FLl2qRRf",
        "outputId": "0ea1edd2-9cba-4df8-936e-eadb3b945a48"
      },
      "execution_count": 29,
      "outputs": [
        {
          "output_type": "stream",
          "name": "stdout",
          "text": [
            "-1.0 1.0\n"
          ]
        },
        {
          "output_type": "display_data",
          "data": {
            "text/plain": [
              "<Figure size 640x480 with 1 Axes>"
            ],
            "image/png": "[encoded data removed]"
          },
          "metadata": {}
        }
      ]
    },
    {
      "cell_type": "code",
      "source": [
        "import cv2\n",
        "import numpy as np\n",
        "from google.colab.patches import cv2_imshow\n",
        "\n",
        "img=cv2.imread('/content/drive/MyDrive/photo.png',cv2.IMREAD_COLOR)\n",
        "\n",
        "height, width=img.shape[:2]\n",
        "\n",
        "M=np.array([[1,0,100],[0,1,200],[0,0,1]],dtype=float)\n",
        "\n",
        "dst=np.zeros(img.shape, dtype=np.uint8)\n",
        "\n",
        "result=cv2.hconcat([img,dst])\n",
        "# cv2.imshow(\"result\",result)\n",
        "cv2_imshow(result)\n",
        "cv2.waitKey(0)"
      ],
      "metadata": {
        "colab": {
          "base_uri": "https://localhost:8080/",
          "height": 471
        },
        "id": "R7vwaPBZt61o",
        "outputId": "6a552050-6ecb-4663-e225-191c8c9f0fb0"
      },
      "execution_count": 1,
      "outputs": [
        {
          "output_type": "display_data",
          "data": {
            "text/plain": [
              "<PIL.Image.Image image mode=RGB size=1692x1174>"
            ],
            "image/png": "[encoded data removed]"
          },
          "metadata": {}
        },
        {
          "output_type": "execute_result",
          "data": {
            "text/plain": [
              "-1"
            ]
          },
          "metadata": {},
          "execution_count": 1
        }
      ]
    }
  ]
}