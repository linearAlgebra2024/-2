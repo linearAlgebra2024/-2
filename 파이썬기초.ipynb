{
  "nbformat": 4,
  "nbformat_minor": 0,
  "metadata": {
    "colab": {
      "provenance": [],
      "gpuType": "T4",
      "mount_file_id": "1WV6yN837TewrRQvAIzdHZ5IEGL58I6K2",
      "authorship_tag": "ABX9TyPRCETtqAhiPtoBsREd5oK4",
      "include_colab_link": true
    },
    "kernelspec": {
      "name": "python3",
      "display_name": "Python 3"
    },
    "language_info": {
      "name": "python"
    },
    "accelerator": "GPU"
  },
  "cells": [
    {
      "cell_type": "markdown",
      "metadata": {
        "id": "view-in-github",
        "colab_type": "text"
      },
      "source": [
        "<a href=\"https://colab.research.google.com/github/linearAlgebra2024/-2/blob/feat-minje/%ED%8C%8C%EC%9D%B4%EC%8D%AC%EA%B8%B0%EC%B4%88.ipynb\" target=\"_parent\"><img src=\"https://colab.research.google.com/assets/colab-badge.svg\" alt=\"Open In Colab\"/></a>"
      ]
    },
    {
      "cell_type": "code",
      "execution_count": 1,
      "metadata": {
        "colab": {
          "base_uri": "https://localhost:8080/"
        },
        "id": "BJ5LE_ZtRxQI",
        "outputId": "2d51caaf-307f-44ea-8f73-1fd8df722030"
      },
      "outputs": [
        {
          "output_type": "stream",
          "name": "stdout",
          "text": [
            "Hello, world\n"
          ]
        }
      ],
      "source": [
        "print(\"Hello, world\")"
      ]
    },
    {
      "cell_type": "code",
      "source": [
        "#integer\n",
        "x = 3\n",
        "print(\"정수:%01d, %o2d, %03d, %04d, %05d\"\n",
        "    % (x,x,x,x,x))"
      ],
      "metadata": {
        "colab": {
          "base_uri": "https://localhost:8080/"
        },
        "id": "qR5192GsVXVi",
        "outputId": "87460c0f-405e-4017-e868-ebfa82d85874"
      },
      "execution_count": 2,
      "outputs": [
        {
          "output_type": "stream",
          "name": "stdout",
          "text": [
            "정수:3, 32d, 003, 0003, 00003\n"
          ]
        }
      ]
    },
    {
      "cell_type": "code",
      "source": [
        "#float\n",
        "x=256.123\n",
        "print (\"실수: %.0f, %.1f, %.2f\"\n",
        "      %(x,x,x))"
      ],
      "metadata": {
        "colab": {
          "base_uri": "https://localhost:8080/"
        },
        "id": "pShrkseWVwqm",
        "outputId": "4bb53954-35e1-4098-d495-172196584afb"
      },
      "execution_count": 4,
      "outputs": [
        {
          "output_type": "stream",
          "name": "stdout",
          "text": [
            "실수: 256, 256.1, 256.12\n"
          ]
        }
      ]
    },
    {
      "cell_type": "code",
      "source": [
        "#string\n",
        "x = \"Hello, world\"\n",
        "print(\"문자열: [%s]\" %(x))"
      ],
      "metadata": {
        "colab": {
          "base_uri": "https://localhost:8080/"
        },
        "id": "0xwxHP8rWCyb",
        "outputId": "c3b4389e-5a51-4cbe-d302-bdcdeaf35ad3"
      },
      "execution_count": 5,
      "outputs": [
        {
          "output_type": "stream",
          "name": "stdout",
          "text": [
            "문자열: [Hello, world]\n"
          ]
        }
      ]
    },
    {
      "cell_type": "code",
      "source": [
        "contents = [\"Regression\", \"Classification\", \"SYM\", \"Clustering\", \"Dimension reduction\",\n",
        "            \"NN\", \"CNN\", \"AE\", \"GAN\", \"RNN\"]\n",
        "\n",
        "for con in contents:\n",
        "  if con in [\"Regression\", \"Classification\", \"SYM\", \"Clustering\", \"Dimension reduction\"]:\n",
        "    print(\"%s은(는) 기계학습 내용입니다.\" %con)\n",
        "  elif con in [\"CNN\"]:\n",
        "    print (\"%s 은(는) convolutional neural network 입니다.\" %con)\n",
        "  else:\n",
        "    print (\"%s 은(는) 심층 학습 내용입니다.\" %con)\n",
        "\n"
      ],
      "metadata": {
        "colab": {
          "base_uri": "https://localhost:8080/"
        },
        "id": "AszkkHLcWhRh",
        "outputId": "3918c38c-ad2f-4f76-b91b-7da51d230b26"
      },
      "execution_count": 10,
      "outputs": [
        {
          "output_type": "stream",
          "name": "stdout",
          "text": [
            "Regression은(는) 기계학습 내용입니다.\n",
            "Classification은(는) 기계학습 내용입니다.\n",
            "SYM은(는) 기계학습 내용입니다.\n",
            "Clustering은(는) 기계학습 내용입니다.\n",
            "Dimension reduction은(는) 기계학습 내용입니다.\n",
            "NN 은(는) 심층 학습 내용입니다.\n",
            "CNN 은(는) convolutional neural network 입니다.\n",
            "AE 은(는) 심층 학습 내용입니다.\n",
            "GAN 은(는) 심층 학습 내용입니다.\n",
            "RNN 은(는) 심층 학습 내용입니다.\n"
          ]
        }
      ]
    },
    {
      "cell_type": "code",
      "source": [
        "for(i,con) in enumerate(contents):\n",
        "  print (\"[%d/%d]: %s\" %(i, len(contents), con))"
      ],
      "metadata": {
        "colab": {
          "base_uri": "https://localhost:8080/"
        },
        "id": "xInecTxjaLuB",
        "outputId": "bfda5b5a-e745-499e-dbab-eb7db754019a"
      },
      "execution_count": 11,
      "outputs": [
        {
          "output_type": "stream",
          "name": "stdout",
          "text": [
            "[0/10]: Regression\n",
            "[1/10]: Classification\n",
            "[2/10]: SYM\n",
            "[3/10]: Clustering\n",
            "[4/10]: Dimension reduction\n",
            "[5/10]: NN\n",
            "[6/10]: CNN\n",
            "[7/10]: AE\n",
            "[8/10]: GAN\n",
            "[9/10]: RNN\n"
          ]
        }
      ]
    },
    {
      "cell_type": "code",
      "source": [
        "def sum(a,b):\n",
        "  return a+b\n",
        "\n",
        "x = 10.0\n",
        "y = 20.0\n",
        "\n",
        "print(\"%.1f + %.1f = %.1f\" %(x,y, sum(x,y)))"
      ],
      "metadata": {
        "colab": {
          "base_uri": "https://localhost:8080/"
        },
        "id": "UOh1eZ8La51Z",
        "outputId": "e5d6604b-8fae-4981-b804-eef7a88f5956"
      },
      "execution_count": 12,
      "outputs": [
        {
          "output_type": "stream",
          "name": "stdout",
          "text": [
            "10.0 + 20.0 = 30.0\n"
          ]
        }
      ]
    },
    {
      "cell_type": "code",
      "source": [
        "a = []\n",
        "b = []\n",
        "c = [\"Hello\", \",\", \"world\"]\n",
        "d = [1,2,3,\"x\", \"y\", \"z\"]\n",
        "x = []\n",
        "print(x)\n",
        "\n",
        "x.append('a')\n",
        "print(x)\n",
        "\n",
        "x.append(123)\n",
        "print(x)\n",
        "\n",
        "x.append([\"a\", \"b\"])\n",
        "print(x)"
      ],
      "metadata": {
        "colab": {
          "base_uri": "https://localhost:8080/"
        },
        "id": "ApjyKq84bKMk",
        "outputId": "4662ad47-f5a5-433c-8170-b5dd4d0dee48"
      },
      "execution_count": 16,
      "outputs": [
        {
          "output_type": "stream",
          "name": "stdout",
          "text": [
            "[]\n",
            "['a']\n",
            "['a', 123]\n",
            "['a', 123, ['a', 'b']]\n"
          ]
        }
      ]
    },
    {
      "cell_type": "code",
      "source": [
        "dic = dict()\n",
        "dic[\"name\"] = \"Daesik\"\n",
        "dic[\"town\"] = \"Yongin city\"\n",
        "dic[\"job\"] = \"Assistant professor\"\n",
        "print(dic)\n"
      ],
      "metadata": {
        "colab": {
          "base_uri": "https://localhost:8080/"
        },
        "id": "7Dl_YjHBbZu4",
        "outputId": "3c7efc6c-4e38-4c3b-e7df-d1e7f8062799"
      },
      "execution_count": 17,
      "outputs": [
        {
          "output_type": "stream",
          "name": "stdout",
          "text": [
            "{'name': 'Daesik', 'town': 'Yongin city', 'job': 'Assistant professor'}\n"
          ]
        }
      ]
    },
    {
      "cell_type": "code",
      "source": [
        "class Student:\n",
        "  #생성자\n",
        "  def __init__(self, name):\n",
        "    self.name = name\n",
        "\n",
        "  #메서드\n",
        "  def study(self, hard=False):\n",
        "    if hard:\n",
        "      print(\"%s 학생은 열심히 공부합니다.\" %self.name)\n",
        "    else:\n",
        "      print(\"%s 학생은 공부합니다.\" %self.name)\n",
        "\n",
        "s = Student(\"Daesik\")\n",
        "s.study()\n",
        "s.study(hard=True)"
      ],
      "metadata": {
        "colab": {
          "base_uri": "https://localhost:8080/"
        },
        "id": "toetQmQPcKl0",
        "outputId": "c337e23f-c4d8-4abf-a853-7b246128ff3c"
      },
      "execution_count": 18,
      "outputs": [
        {
          "output_type": "stream",
          "name": "stdout",
          "text": [
            "Daesik 학생은 공부합니다.\n",
            "Daesik 학생은 열심히 공부합니다.\n"
          ]
        }
      ]
    }
  ]
}